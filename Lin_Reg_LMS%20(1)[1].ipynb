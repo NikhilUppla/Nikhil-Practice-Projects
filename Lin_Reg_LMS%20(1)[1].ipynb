{
 "cells": [
  {
   "cell_type": "markdown",
   "metadata": {
    "colab_type": "text",
    "id": "vuIQgZeeRgoK"
   },
   "source": [
    "# Property Price Prediction"
   ]
  },
  {
   "cell_type": "markdown",
   "metadata": {
    "colab_type": "text",
    "id": "zwk0hHHYRgoM"
   },
   "source": [
    "### Import required libraries"
   ]
  },
  {
   "cell_type": "code",
   "execution_count": 77,
   "metadata": {
    "colab": {},
    "colab_type": "code",
    "id": "CnDcXz3IRgoN"
   },
   "outputs": [],
   "source": [
    "import pandas as pd\n",
    "import numpy as np\n",
    "import matplotlib.pyplot as plt\n",
    "%matplotlib inline\n",
    "pd.set_option('display.max_columns', None)"
   ]
  },
  {
   "cell_type": "markdown",
   "metadata": {
    "colab_type": "text",
    "id": "rNB8G-eXRgoR"
   },
   "source": [
    "### Load the data"
   ]
  },
  {
   "cell_type": "code",
   "execution_count": 78,
   "metadata": {
    "colab": {},
    "colab_type": "code",
    "id": "Ncj6g4YBRgoR"
   },
   "outputs": [],
   "source": [
    "train = pd.read_csv(\"Property_Price_Train.csv\")\n",
    "test = pd.read_csv(\"Property_Price_Test.csv\")"
   ]
  },
  {
   "cell_type": "code",
   "execution_count": 79,
   "metadata": {
    "colab": {},
    "colab_type": "code",
    "id": "3kybUAHvRgoU"
   },
   "outputs": [],
   "source": [
    "# Remove Id and Sale_Price column from the train dataset\n",
    "train = train.drop(['Id'], axis=1)\n",
    "\n",
    "# Remove Id and Sale_Price column from the test dataset\n",
    "test = test.drop(['Id'], axis=1)"
   ]
  },
  {
   "cell_type": "code",
   "execution_count": 80,
   "metadata": {
    "colab": {},
    "colab_type": "code",
    "id": "2OxrafZiRgoX"
   },
   "outputs": [],
   "source": [
    "alldata = train.append(test)"
   ]
  },
  {
   "cell_type": "code",
   "execution_count": 81,
   "metadata": {
    "colab": {},
    "colab_type": "code",
    "id": "jNtVhuHoRgob"
   },
   "outputs": [],
   "source": [
    "alldata = alldata.reset_index()"
   ]
  },
  {
   "cell_type": "code",
   "execution_count": 82,
   "metadata": {
    "colab": {
     "base_uri": "https://localhost:8080/",
     "height": 224
    },
    "colab_type": "code",
    "executionInfo": {
     "elapsed": 57471,
     "status": "ok",
     "timestamp": 1591475661473,
     "user": {
      "displayName": "Upal Roy",
      "photoUrl": "https://lh3.googleusercontent.com/a-/AOh14Gh3ZcxNJOImetV4fnumMA01jK279Xfnb3YIYO61fA=s64",
      "userId": "00708235415135331858"
     },
     "user_tz": -330
    },
    "id": "7G0hN0CNRgoe",
    "outputId": "9cb0ee60-a534-4ddc-fa56-aa8999a9c73c"
   },
   "outputs": [
    {
     "data": {
      "text/html": [
       "<div>\n",
       "<style scoped>\n",
       "    .dataframe tbody tr th:only-of-type {\n",
       "        vertical-align: middle;\n",
       "    }\n",
       "\n",
       "    .dataframe tbody tr th {\n",
       "        vertical-align: top;\n",
       "    }\n",
       "\n",
       "    .dataframe thead th {\n",
       "        text-align: right;\n",
       "    }\n",
       "</style>\n",
       "<table border=\"1\" class=\"dataframe\">\n",
       "  <thead>\n",
       "    <tr style=\"text-align: right;\">\n",
       "      <th></th>\n",
       "      <th>index</th>\n",
       "      <th>Building_Class</th>\n",
       "      <th>Zoning_Class</th>\n",
       "      <th>Lot_Extent</th>\n",
       "      <th>Lot_Size</th>\n",
       "      <th>Road_Type</th>\n",
       "      <th>Lane_Type</th>\n",
       "      <th>Property_Shape</th>\n",
       "      <th>Land_Outline</th>\n",
       "      <th>Utility_Type</th>\n",
       "      <th>Lot_Configuration</th>\n",
       "      <th>Property_Slope</th>\n",
       "      <th>Neighborhood</th>\n",
       "      <th>Condition1</th>\n",
       "      <th>Condition2</th>\n",
       "      <th>House_Type</th>\n",
       "      <th>House_Design</th>\n",
       "      <th>Overall_Material</th>\n",
       "      <th>House_Condition</th>\n",
       "      <th>Construction_Year</th>\n",
       "      <th>Remodel_Year</th>\n",
       "      <th>Roof_Design</th>\n",
       "      <th>Roof_Quality</th>\n",
       "      <th>Exterior1st</th>\n",
       "      <th>Exterior2nd</th>\n",
       "      <th>Brick_Veneer_Type</th>\n",
       "      <th>Brick_Veneer_Area</th>\n",
       "      <th>Exterior_Material</th>\n",
       "      <th>Exterior_Condition</th>\n",
       "      <th>Foundation_Type</th>\n",
       "      <th>Basement_Height</th>\n",
       "      <th>Basement_Condition</th>\n",
       "      <th>Exposure_Level</th>\n",
       "      <th>BsmtFinType1</th>\n",
       "      <th>BsmtFinSF1</th>\n",
       "      <th>BsmtFinType2</th>\n",
       "      <th>BsmtFinSF2</th>\n",
       "      <th>BsmtUnfSF</th>\n",
       "      <th>Total_Basement_Area</th>\n",
       "      <th>Heating_Type</th>\n",
       "      <th>Heating_Quality</th>\n",
       "      <th>Air_Conditioning</th>\n",
       "      <th>Electrical_System</th>\n",
       "      <th>First_Floor_Area</th>\n",
       "      <th>Second_Floor_Area</th>\n",
       "      <th>LowQualFinSF</th>\n",
       "      <th>Grade_Living_Area</th>\n",
       "      <th>Underground_Full_Bathroom</th>\n",
       "      <th>Underground_Half_Bathroom</th>\n",
       "      <th>Full_Bathroom_Above_Grade</th>\n",
       "      <th>Half_Bathroom_Above_Grade</th>\n",
       "      <th>Bedroom_Above_Grade</th>\n",
       "      <th>Kitchen_Above_Grade</th>\n",
       "      <th>Kitchen_Quality</th>\n",
       "      <th>Rooms_Above_Grade</th>\n",
       "      <th>Functional_Rate</th>\n",
       "      <th>Fireplaces</th>\n",
       "      <th>Fireplace_Quality</th>\n",
       "      <th>Garage</th>\n",
       "      <th>Garage_Built_Year</th>\n",
       "      <th>Garage_Finish_Year</th>\n",
       "      <th>Garage_Size</th>\n",
       "      <th>Garage_Area</th>\n",
       "      <th>Garage_Quality</th>\n",
       "      <th>Garage_Condition</th>\n",
       "      <th>Pavedd_Drive</th>\n",
       "      <th>W_Deck_Area</th>\n",
       "      <th>Open_Lobby_Area</th>\n",
       "      <th>Enclosed_Lobby_Area</th>\n",
       "      <th>Three_Season_Lobby_Area</th>\n",
       "      <th>Screen_Lobby_Area</th>\n",
       "      <th>Pool_Area</th>\n",
       "      <th>Pool_Quality</th>\n",
       "      <th>Fence_Quality</th>\n",
       "      <th>Miscellaneous_Feature</th>\n",
       "      <th>Miscellaneous_Value</th>\n",
       "      <th>Month_Sold</th>\n",
       "      <th>Year_Sold</th>\n",
       "      <th>Sale_Type</th>\n",
       "      <th>Sale_Condition</th>\n",
       "      <th>Sale_Price</th>\n",
       "    </tr>\n",
       "  </thead>\n",
       "  <tbody>\n",
       "    <tr>\n",
       "      <th>0</th>\n",
       "      <td>0</td>\n",
       "      <td>60</td>\n",
       "      <td>RLD</td>\n",
       "      <td>65.0</td>\n",
       "      <td>8450.0</td>\n",
       "      <td>Paved</td>\n",
       "      <td>NaN</td>\n",
       "      <td>Reg</td>\n",
       "      <td>Lvl</td>\n",
       "      <td>AllPub</td>\n",
       "      <td>I</td>\n",
       "      <td>GS</td>\n",
       "      <td>CollgCr</td>\n",
       "      <td>Norm</td>\n",
       "      <td>Norm</td>\n",
       "      <td>1Fam</td>\n",
       "      <td>2Story</td>\n",
       "      <td>7</td>\n",
       "      <td>5</td>\n",
       "      <td>2003</td>\n",
       "      <td>2003</td>\n",
       "      <td>Gable</td>\n",
       "      <td>SS</td>\n",
       "      <td>VinylSd</td>\n",
       "      <td>VinylSd</td>\n",
       "      <td>BrkFace</td>\n",
       "      <td>196.0</td>\n",
       "      <td>Gd</td>\n",
       "      <td>TA</td>\n",
       "      <td>PC</td>\n",
       "      <td>Gd</td>\n",
       "      <td>TA</td>\n",
       "      <td>No</td>\n",
       "      <td>GLQ</td>\n",
       "      <td>706.0</td>\n",
       "      <td>Unf</td>\n",
       "      <td>0.0</td>\n",
       "      <td>150.0</td>\n",
       "      <td>856.0</td>\n",
       "      <td>GasA</td>\n",
       "      <td>Ex</td>\n",
       "      <td>Y</td>\n",
       "      <td>SBrkr</td>\n",
       "      <td>856</td>\n",
       "      <td>854</td>\n",
       "      <td>0</td>\n",
       "      <td>1710</td>\n",
       "      <td>1.0</td>\n",
       "      <td>0.0</td>\n",
       "      <td>2</td>\n",
       "      <td>1</td>\n",
       "      <td>3</td>\n",
       "      <td>1</td>\n",
       "      <td>Gd</td>\n",
       "      <td>8</td>\n",
       "      <td>TF</td>\n",
       "      <td>0</td>\n",
       "      <td>NaN</td>\n",
       "      <td>Attchd</td>\n",
       "      <td>2003.0</td>\n",
       "      <td>RFn</td>\n",
       "      <td>2.0</td>\n",
       "      <td>1085.793744</td>\n",
       "      <td>TA</td>\n",
       "      <td>TA</td>\n",
       "      <td>Y</td>\n",
       "      <td>163.788080</td>\n",
       "      <td>69.596115</td>\n",
       "      <td>20.337934</td>\n",
       "      <td>0</td>\n",
       "      <td>0</td>\n",
       "      <td>0</td>\n",
       "      <td>NaN</td>\n",
       "      <td>NaN</td>\n",
       "      <td>NaN</td>\n",
       "      <td>0</td>\n",
       "      <td>2</td>\n",
       "      <td>2008</td>\n",
       "      <td>WD</td>\n",
       "      <td>Normal</td>\n",
       "      <td>208500.0</td>\n",
       "    </tr>\n",
       "    <tr>\n",
       "      <th>1</th>\n",
       "      <td>1</td>\n",
       "      <td>20</td>\n",
       "      <td>RLD</td>\n",
       "      <td>80.0</td>\n",
       "      <td>9600.0</td>\n",
       "      <td>Paved</td>\n",
       "      <td>NaN</td>\n",
       "      <td>Reg</td>\n",
       "      <td>Lvl</td>\n",
       "      <td>AllPub</td>\n",
       "      <td>FR2P</td>\n",
       "      <td>GS</td>\n",
       "      <td>Veenker</td>\n",
       "      <td>Feedr</td>\n",
       "      <td>Norm</td>\n",
       "      <td>1Fam</td>\n",
       "      <td>1Story</td>\n",
       "      <td>6</td>\n",
       "      <td>8</td>\n",
       "      <td>1976</td>\n",
       "      <td>1976</td>\n",
       "      <td>Gable</td>\n",
       "      <td>SS</td>\n",
       "      <td>MetalSd</td>\n",
       "      <td>MetalSd</td>\n",
       "      <td>None</td>\n",
       "      <td>0.0</td>\n",
       "      <td>TA</td>\n",
       "      <td>TA</td>\n",
       "      <td>CB</td>\n",
       "      <td>Gd</td>\n",
       "      <td>TA</td>\n",
       "      <td>Gd</td>\n",
       "      <td>ALQ</td>\n",
       "      <td>978.0</td>\n",
       "      <td>Unf</td>\n",
       "      <td>0.0</td>\n",
       "      <td>284.0</td>\n",
       "      <td>1262.0</td>\n",
       "      <td>GasA</td>\n",
       "      <td>Ex</td>\n",
       "      <td>Y</td>\n",
       "      <td>SBrkr</td>\n",
       "      <td>1262</td>\n",
       "      <td>0</td>\n",
       "      <td>0</td>\n",
       "      <td>1262</td>\n",
       "      <td>0.0</td>\n",
       "      <td>1.0</td>\n",
       "      <td>2</td>\n",
       "      <td>0</td>\n",
       "      <td>3</td>\n",
       "      <td>1</td>\n",
       "      <td>TA</td>\n",
       "      <td>6</td>\n",
       "      <td>TF</td>\n",
       "      <td>1</td>\n",
       "      <td>TA</td>\n",
       "      <td>Attchd</td>\n",
       "      <td>1976.0</td>\n",
       "      <td>RFn</td>\n",
       "      <td>2.0</td>\n",
       "      <td>196.316304</td>\n",
       "      <td>TA</td>\n",
       "      <td>TA</td>\n",
       "      <td>Y</td>\n",
       "      <td>198.900074</td>\n",
       "      <td>74.716033</td>\n",
       "      <td>15.039392</td>\n",
       "      <td>0</td>\n",
       "      <td>0</td>\n",
       "      <td>0</td>\n",
       "      <td>NaN</td>\n",
       "      <td>NaN</td>\n",
       "      <td>NaN</td>\n",
       "      <td>0</td>\n",
       "      <td>5</td>\n",
       "      <td>2007</td>\n",
       "      <td>WD</td>\n",
       "      <td>Normal</td>\n",
       "      <td>181500.0</td>\n",
       "    </tr>\n",
       "    <tr>\n",
       "      <th>2</th>\n",
       "      <td>2</td>\n",
       "      <td>60</td>\n",
       "      <td>RLD</td>\n",
       "      <td>68.0</td>\n",
       "      <td>11250.0</td>\n",
       "      <td>Paved</td>\n",
       "      <td>NaN</td>\n",
       "      <td>IR1</td>\n",
       "      <td>Lvl</td>\n",
       "      <td>AllPub</td>\n",
       "      <td>I</td>\n",
       "      <td>GS</td>\n",
       "      <td>CollgCr</td>\n",
       "      <td>Norm</td>\n",
       "      <td>Norm</td>\n",
       "      <td>1Fam</td>\n",
       "      <td>2Story</td>\n",
       "      <td>7</td>\n",
       "      <td>5</td>\n",
       "      <td>2001</td>\n",
       "      <td>2002</td>\n",
       "      <td>Gable</td>\n",
       "      <td>SS</td>\n",
       "      <td>VinylSd</td>\n",
       "      <td>VinylSd</td>\n",
       "      <td>BrkFace</td>\n",
       "      <td>162.0</td>\n",
       "      <td>Gd</td>\n",
       "      <td>TA</td>\n",
       "      <td>PC</td>\n",
       "      <td>Gd</td>\n",
       "      <td>TA</td>\n",
       "      <td>Mn</td>\n",
       "      <td>GLQ</td>\n",
       "      <td>486.0</td>\n",
       "      <td>Unf</td>\n",
       "      <td>0.0</td>\n",
       "      <td>434.0</td>\n",
       "      <td>920.0</td>\n",
       "      <td>GasA</td>\n",
       "      <td>Ex</td>\n",
       "      <td>Y</td>\n",
       "      <td>SBrkr</td>\n",
       "      <td>920</td>\n",
       "      <td>866</td>\n",
       "      <td>0</td>\n",
       "      <td>1786</td>\n",
       "      <td>1.0</td>\n",
       "      <td>0.0</td>\n",
       "      <td>2</td>\n",
       "      <td>1</td>\n",
       "      <td>3</td>\n",
       "      <td>1</td>\n",
       "      <td>Gd</td>\n",
       "      <td>6</td>\n",
       "      <td>TF</td>\n",
       "      <td>1</td>\n",
       "      <td>TA</td>\n",
       "      <td>Attchd</td>\n",
       "      <td>2001.0</td>\n",
       "      <td>RFn</td>\n",
       "      <td>2.0</td>\n",
       "      <td>218.068403</td>\n",
       "      <td>TA</td>\n",
       "      <td>TA</td>\n",
       "      <td>Y</td>\n",
       "      <td>26.127533</td>\n",
       "      <td>32.085268</td>\n",
       "      <td>-46.232198</td>\n",
       "      <td>0</td>\n",
       "      <td>0</td>\n",
       "      <td>0</td>\n",
       "      <td>NaN</td>\n",
       "      <td>NaN</td>\n",
       "      <td>NaN</td>\n",
       "      <td>0</td>\n",
       "      <td>9</td>\n",
       "      <td>2008</td>\n",
       "      <td>WD</td>\n",
       "      <td>Normal</td>\n",
       "      <td>223500.0</td>\n",
       "    </tr>\n",
       "    <tr>\n",
       "      <th>3</th>\n",
       "      <td>3</td>\n",
       "      <td>70</td>\n",
       "      <td>RLD</td>\n",
       "      <td>60.0</td>\n",
       "      <td>9550.0</td>\n",
       "      <td>Paved</td>\n",
       "      <td>NaN</td>\n",
       "      <td>IR1</td>\n",
       "      <td>Lvl</td>\n",
       "      <td>AllPub</td>\n",
       "      <td>C</td>\n",
       "      <td>GS</td>\n",
       "      <td>Crawfor</td>\n",
       "      <td>Norm</td>\n",
       "      <td>Norm</td>\n",
       "      <td>1Fam</td>\n",
       "      <td>2Story</td>\n",
       "      <td>7</td>\n",
       "      <td>5</td>\n",
       "      <td>1915</td>\n",
       "      <td>1970</td>\n",
       "      <td>Gable</td>\n",
       "      <td>SS</td>\n",
       "      <td>Wd Sdng</td>\n",
       "      <td>Wd Shng</td>\n",
       "      <td>None</td>\n",
       "      <td>0.0</td>\n",
       "      <td>TA</td>\n",
       "      <td>TA</td>\n",
       "      <td>BT</td>\n",
       "      <td>TA</td>\n",
       "      <td>Gd</td>\n",
       "      <td>No</td>\n",
       "      <td>ALQ</td>\n",
       "      <td>216.0</td>\n",
       "      <td>Unf</td>\n",
       "      <td>0.0</td>\n",
       "      <td>540.0</td>\n",
       "      <td>756.0</td>\n",
       "      <td>GasA</td>\n",
       "      <td>Gd</td>\n",
       "      <td>Y</td>\n",
       "      <td>SBrkr</td>\n",
       "      <td>961</td>\n",
       "      <td>756</td>\n",
       "      <td>0</td>\n",
       "      <td>1717</td>\n",
       "      <td>1.0</td>\n",
       "      <td>0.0</td>\n",
       "      <td>1</td>\n",
       "      <td>0</td>\n",
       "      <td>3</td>\n",
       "      <td>1</td>\n",
       "      <td>Gd</td>\n",
       "      <td>7</td>\n",
       "      <td>TF</td>\n",
       "      <td>1</td>\n",
       "      <td>Gd</td>\n",
       "      <td>Detchd</td>\n",
       "      <td>1998.0</td>\n",
       "      <td>Unf</td>\n",
       "      <td>3.0</td>\n",
       "      <td>696.996439</td>\n",
       "      <td>TA</td>\n",
       "      <td>TA</td>\n",
       "      <td>Y</td>\n",
       "      <td>46.948018</td>\n",
       "      <td>40.181415</td>\n",
       "      <td>60.921821</td>\n",
       "      <td>0</td>\n",
       "      <td>0</td>\n",
       "      <td>0</td>\n",
       "      <td>NaN</td>\n",
       "      <td>NaN</td>\n",
       "      <td>NaN</td>\n",
       "      <td>0</td>\n",
       "      <td>2</td>\n",
       "      <td>2006</td>\n",
       "      <td>WD</td>\n",
       "      <td>Abnorml</td>\n",
       "      <td>140000.0</td>\n",
       "    </tr>\n",
       "    <tr>\n",
       "      <th>4</th>\n",
       "      <td>4</td>\n",
       "      <td>60</td>\n",
       "      <td>RLD</td>\n",
       "      <td>84.0</td>\n",
       "      <td>14260.0</td>\n",
       "      <td>Paved</td>\n",
       "      <td>NaN</td>\n",
       "      <td>IR1</td>\n",
       "      <td>Lvl</td>\n",
       "      <td>AllPub</td>\n",
       "      <td>FR2P</td>\n",
       "      <td>GS</td>\n",
       "      <td>NoRidge</td>\n",
       "      <td>Norm</td>\n",
       "      <td>Norm</td>\n",
       "      <td>1Fam</td>\n",
       "      <td>2Story</td>\n",
       "      <td>8</td>\n",
       "      <td>5</td>\n",
       "      <td>2000</td>\n",
       "      <td>2000</td>\n",
       "      <td>Gable</td>\n",
       "      <td>SS</td>\n",
       "      <td>VinylSd</td>\n",
       "      <td>VinylSd</td>\n",
       "      <td>BrkFace</td>\n",
       "      <td>350.0</td>\n",
       "      <td>Gd</td>\n",
       "      <td>TA</td>\n",
       "      <td>PC</td>\n",
       "      <td>Gd</td>\n",
       "      <td>TA</td>\n",
       "      <td>Av</td>\n",
       "      <td>GLQ</td>\n",
       "      <td>655.0</td>\n",
       "      <td>Unf</td>\n",
       "      <td>0.0</td>\n",
       "      <td>490.0</td>\n",
       "      <td>1145.0</td>\n",
       "      <td>GasA</td>\n",
       "      <td>Ex</td>\n",
       "      <td>Y</td>\n",
       "      <td>SBrkr</td>\n",
       "      <td>1145</td>\n",
       "      <td>1053</td>\n",
       "      <td>0</td>\n",
       "      <td>2198</td>\n",
       "      <td>1.0</td>\n",
       "      <td>0.0</td>\n",
       "      <td>2</td>\n",
       "      <td>1</td>\n",
       "      <td>4</td>\n",
       "      <td>1</td>\n",
       "      <td>Gd</td>\n",
       "      <td>9</td>\n",
       "      <td>TF</td>\n",
       "      <td>1</td>\n",
       "      <td>TA</td>\n",
       "      <td>Attchd</td>\n",
       "      <td>2000.0</td>\n",
       "      <td>RFn</td>\n",
       "      <td>3.0</td>\n",
       "      <td>568.859882</td>\n",
       "      <td>TA</td>\n",
       "      <td>TA</td>\n",
       "      <td>Y</td>\n",
       "      <td>-10.626105</td>\n",
       "      <td>20.755323</td>\n",
       "      <td>21.788818</td>\n",
       "      <td>0</td>\n",
       "      <td>0</td>\n",
       "      <td>0</td>\n",
       "      <td>NaN</td>\n",
       "      <td>NaN</td>\n",
       "      <td>NaN</td>\n",
       "      <td>0</td>\n",
       "      <td>12</td>\n",
       "      <td>2008</td>\n",
       "      <td>WD</td>\n",
       "      <td>Normal</td>\n",
       "      <td>250000.0</td>\n",
       "    </tr>\n",
       "  </tbody>\n",
       "</table>\n",
       "</div>"
      ],
      "text/plain": [
       "   index  Building_Class Zoning_Class  Lot_Extent  Lot_Size Road_Type  \\\n",
       "0      0              60          RLD        65.0    8450.0     Paved   \n",
       "1      1              20          RLD        80.0    9600.0     Paved   \n",
       "2      2              60          RLD        68.0   11250.0     Paved   \n",
       "3      3              70          RLD        60.0    9550.0     Paved   \n",
       "4      4              60          RLD        84.0   14260.0     Paved   \n",
       "\n",
       "  Lane_Type Property_Shape Land_Outline Utility_Type Lot_Configuration  \\\n",
       "0       NaN            Reg          Lvl       AllPub                 I   \n",
       "1       NaN            Reg          Lvl       AllPub              FR2P   \n",
       "2       NaN            IR1          Lvl       AllPub                 I   \n",
       "3       NaN            IR1          Lvl       AllPub                 C   \n",
       "4       NaN            IR1          Lvl       AllPub              FR2P   \n",
       "\n",
       "  Property_Slope Neighborhood Condition1 Condition2 House_Type House_Design  \\\n",
       "0             GS      CollgCr       Norm       Norm       1Fam       2Story   \n",
       "1             GS      Veenker      Feedr       Norm       1Fam       1Story   \n",
       "2             GS      CollgCr       Norm       Norm       1Fam       2Story   \n",
       "3             GS      Crawfor       Norm       Norm       1Fam       2Story   \n",
       "4             GS      NoRidge       Norm       Norm       1Fam       2Story   \n",
       "\n",
       "   Overall_Material  House_Condition  Construction_Year  Remodel_Year  \\\n",
       "0                 7                5               2003          2003   \n",
       "1                 6                8               1976          1976   \n",
       "2                 7                5               2001          2002   \n",
       "3                 7                5               1915          1970   \n",
       "4                 8                5               2000          2000   \n",
       "\n",
       "  Roof_Design Roof_Quality Exterior1st Exterior2nd Brick_Veneer_Type  \\\n",
       "0       Gable           SS     VinylSd     VinylSd           BrkFace   \n",
       "1       Gable           SS     MetalSd     MetalSd              None   \n",
       "2       Gable           SS     VinylSd     VinylSd           BrkFace   \n",
       "3       Gable           SS     Wd Sdng     Wd Shng              None   \n",
       "4       Gable           SS     VinylSd     VinylSd           BrkFace   \n",
       "\n",
       "   Brick_Veneer_Area Exterior_Material Exterior_Condition Foundation_Type  \\\n",
       "0              196.0                Gd                 TA              PC   \n",
       "1                0.0                TA                 TA              CB   \n",
       "2              162.0                Gd                 TA              PC   \n",
       "3                0.0                TA                 TA              BT   \n",
       "4              350.0                Gd                 TA              PC   \n",
       "\n",
       "  Basement_Height Basement_Condition Exposure_Level BsmtFinType1  BsmtFinSF1  \\\n",
       "0              Gd                 TA             No          GLQ       706.0   \n",
       "1              Gd                 TA             Gd          ALQ       978.0   \n",
       "2              Gd                 TA             Mn          GLQ       486.0   \n",
       "3              TA                 Gd             No          ALQ       216.0   \n",
       "4              Gd                 TA             Av          GLQ       655.0   \n",
       "\n",
       "  BsmtFinType2  BsmtFinSF2  BsmtUnfSF  Total_Basement_Area Heating_Type  \\\n",
       "0          Unf         0.0      150.0                856.0         GasA   \n",
       "1          Unf         0.0      284.0               1262.0         GasA   \n",
       "2          Unf         0.0      434.0                920.0         GasA   \n",
       "3          Unf         0.0      540.0                756.0         GasA   \n",
       "4          Unf         0.0      490.0               1145.0         GasA   \n",
       "\n",
       "  Heating_Quality Air_Conditioning Electrical_System  First_Floor_Area  \\\n",
       "0              Ex                Y             SBrkr               856   \n",
       "1              Ex                Y             SBrkr              1262   \n",
       "2              Ex                Y             SBrkr               920   \n",
       "3              Gd                Y             SBrkr               961   \n",
       "4              Ex                Y             SBrkr              1145   \n",
       "\n",
       "   Second_Floor_Area  LowQualFinSF  Grade_Living_Area  \\\n",
       "0                854             0               1710   \n",
       "1                  0             0               1262   \n",
       "2                866             0               1786   \n",
       "3                756             0               1717   \n",
       "4               1053             0               2198   \n",
       "\n",
       "   Underground_Full_Bathroom  Underground_Half_Bathroom  \\\n",
       "0                        1.0                        0.0   \n",
       "1                        0.0                        1.0   \n",
       "2                        1.0                        0.0   \n",
       "3                        1.0                        0.0   \n",
       "4                        1.0                        0.0   \n",
       "\n",
       "   Full_Bathroom_Above_Grade  Half_Bathroom_Above_Grade  Bedroom_Above_Grade  \\\n",
       "0                          2                          1                    3   \n",
       "1                          2                          0                    3   \n",
       "2                          2                          1                    3   \n",
       "3                          1                          0                    3   \n",
       "4                          2                          1                    4   \n",
       "\n",
       "   Kitchen_Above_Grade Kitchen_Quality  Rooms_Above_Grade Functional_Rate  \\\n",
       "0                    1              Gd                  8              TF   \n",
       "1                    1              TA                  6              TF   \n",
       "2                    1              Gd                  6              TF   \n",
       "3                    1              Gd                  7              TF   \n",
       "4                    1              Gd                  9              TF   \n",
       "\n",
       "   Fireplaces Fireplace_Quality  Garage  Garage_Built_Year Garage_Finish_Year  \\\n",
       "0           0               NaN  Attchd             2003.0                RFn   \n",
       "1           1                TA  Attchd             1976.0                RFn   \n",
       "2           1                TA  Attchd             2001.0                RFn   \n",
       "3           1                Gd  Detchd             1998.0                Unf   \n",
       "4           1                TA  Attchd             2000.0                RFn   \n",
       "\n",
       "   Garage_Size  Garage_Area Garage_Quality Garage_Condition Pavedd_Drive  \\\n",
       "0          2.0  1085.793744             TA               TA            Y   \n",
       "1          2.0   196.316304             TA               TA            Y   \n",
       "2          2.0   218.068403             TA               TA            Y   \n",
       "3          3.0   696.996439             TA               TA            Y   \n",
       "4          3.0   568.859882             TA               TA            Y   \n",
       "\n",
       "   W_Deck_Area  Open_Lobby_Area  Enclosed_Lobby_Area  Three_Season_Lobby_Area  \\\n",
       "0   163.788080        69.596115            20.337934                        0   \n",
       "1   198.900074        74.716033            15.039392                        0   \n",
       "2    26.127533        32.085268           -46.232198                        0   \n",
       "3    46.948018        40.181415            60.921821                        0   \n",
       "4   -10.626105        20.755323            21.788818                        0   \n",
       "\n",
       "   Screen_Lobby_Area  Pool_Area Pool_Quality Fence_Quality  \\\n",
       "0                  0          0          NaN           NaN   \n",
       "1                  0          0          NaN           NaN   \n",
       "2                  0          0          NaN           NaN   \n",
       "3                  0          0          NaN           NaN   \n",
       "4                  0          0          NaN           NaN   \n",
       "\n",
       "  Miscellaneous_Feature  Miscellaneous_Value  Month_Sold  Year_Sold Sale_Type  \\\n",
       "0                   NaN                    0           2       2008        WD   \n",
       "1                   NaN                    0           5       2007        WD   \n",
       "2                   NaN                    0           9       2008        WD   \n",
       "3                   NaN                    0           2       2006        WD   \n",
       "4                   NaN                    0          12       2008        WD   \n",
       "\n",
       "  Sale_Condition  Sale_Price  \n",
       "0         Normal    208500.0  \n",
       "1         Normal    181500.0  \n",
       "2         Normal    223500.0  \n",
       "3        Abnorml    140000.0  \n",
       "4         Normal    250000.0  "
      ]
     },
     "execution_count": 82,
     "metadata": {},
     "output_type": "execute_result"
    }
   ],
   "source": [
    "alldata.head()"
   ]
  },
  {
   "cell_type": "markdown",
   "metadata": {
    "colab_type": "text",
    "id": "GNvl_N7sRgoh"
   },
   "source": [
    "### Dimensions of dataset"
   ]
  },
  {
   "cell_type": "code",
   "execution_count": 83,
   "metadata": {
    "colab": {
     "base_uri": "https://localhost:8080/",
     "height": 34
    },
    "colab_type": "code",
    "executionInfo": {
     "elapsed": 57458,
     "status": "ok",
     "timestamp": 1591475661474,
     "user": {
      "displayName": "Upal Roy",
      "photoUrl": "https://lh3.googleusercontent.com/a-/AOh14Gh3ZcxNJOImetV4fnumMA01jK279Xfnb3YIYO61fA=s64",
      "userId": "00708235415135331858"
     },
     "user_tz": -330
    },
    "id": "6EVhiDiARgoi",
    "outputId": "65d61cb5-867d-42c4-9060-b5bddeeb7db4"
   },
   "outputs": [
    {
     "data": {
      "text/plain": [
       "(2918, 81)"
      ]
     },
     "execution_count": 83,
     "metadata": {},
     "output_type": "execute_result"
    }
   ],
   "source": [
    "alldata.shape"
   ]
  },
  {
   "cell_type": "markdown",
   "metadata": {
    "colab_type": "text",
    "id": "YakD1efTRgok"
   },
   "source": [
    "### Checking datatypes"
   ]
  },
  {
   "cell_type": "code",
   "execution_count": 84,
   "metadata": {
    "colab": {
     "base_uri": "https://localhost:8080/",
     "height": 221
    },
    "colab_type": "code",
    "executionInfo": {
     "elapsed": 57444,
     "status": "ok",
     "timestamp": 1591475661474,
     "user": {
      "displayName": "Upal Roy",
      "photoUrl": "https://lh3.googleusercontent.com/a-/AOh14Gh3ZcxNJOImetV4fnumMA01jK279Xfnb3YIYO61fA=s64",
      "userId": "00708235415135331858"
     },
     "user_tz": -330
    },
    "id": "EU3E5aKlRgol",
    "outputId": "da3d874b-13c4-4f4a-8478-05d1299671ee"
   },
   "outputs": [
    {
     "data": {
      "text/plain": [
       "index               int64\n",
       "Building_Class      int64\n",
       "Zoning_Class       object\n",
       "Lot_Extent        float64\n",
       "Lot_Size          float64\n",
       "                   ...   \n",
       "Month_Sold          int64\n",
       "Year_Sold           int64\n",
       "Sale_Type          object\n",
       "Sale_Condition     object\n",
       "Sale_Price        float64\n",
       "Length: 81, dtype: object"
      ]
     },
     "execution_count": 84,
     "metadata": {},
     "output_type": "execute_result"
    }
   ],
   "source": [
    "# check the datatype of variables\n",
    "alldata.dtypes"
   ]
  },
  {
   "cell_type": "code",
   "execution_count": 85,
   "metadata": {
    "colab": {
     "base_uri": "https://localhost:8080/",
     "height": 317
    },
    "colab_type": "code",
    "executionInfo": {
     "elapsed": 58077,
     "status": "ok",
     "timestamp": 1591475662121,
     "user": {
      "displayName": "Upal Roy",
      "photoUrl": "https://lh3.googleusercontent.com/a-/AOh14Gh3ZcxNJOImetV4fnumMA01jK279Xfnb3YIYO61fA=s64",
      "userId": "00708235415135331858"
     },
     "user_tz": -330
    },
    "id": "YN4ThurmRgoo",
    "outputId": "1de63560-5613-4fbf-fc55-47381c0bad3b"
   },
   "outputs": [
    {
     "data": {
      "text/html": [
       "<div>\n",
       "<style scoped>\n",
       "    .dataframe tbody tr th:only-of-type {\n",
       "        vertical-align: middle;\n",
       "    }\n",
       "\n",
       "    .dataframe tbody tr th {\n",
       "        vertical-align: top;\n",
       "    }\n",
       "\n",
       "    .dataframe thead th {\n",
       "        text-align: right;\n",
       "    }\n",
       "</style>\n",
       "<table border=\"1\" class=\"dataframe\">\n",
       "  <thead>\n",
       "    <tr style=\"text-align: right;\">\n",
       "      <th></th>\n",
       "      <th>index</th>\n",
       "      <th>Building_Class</th>\n",
       "      <th>Lot_Extent</th>\n",
       "      <th>Lot_Size</th>\n",
       "      <th>Overall_Material</th>\n",
       "      <th>House_Condition</th>\n",
       "      <th>Construction_Year</th>\n",
       "      <th>Remodel_Year</th>\n",
       "      <th>Brick_Veneer_Area</th>\n",
       "      <th>BsmtFinSF1</th>\n",
       "      <th>BsmtFinSF2</th>\n",
       "      <th>BsmtUnfSF</th>\n",
       "      <th>Total_Basement_Area</th>\n",
       "      <th>First_Floor_Area</th>\n",
       "      <th>Second_Floor_Area</th>\n",
       "      <th>LowQualFinSF</th>\n",
       "      <th>Grade_Living_Area</th>\n",
       "      <th>Underground_Full_Bathroom</th>\n",
       "      <th>Underground_Half_Bathroom</th>\n",
       "      <th>Full_Bathroom_Above_Grade</th>\n",
       "      <th>Half_Bathroom_Above_Grade</th>\n",
       "      <th>Bedroom_Above_Grade</th>\n",
       "      <th>Kitchen_Above_Grade</th>\n",
       "      <th>Rooms_Above_Grade</th>\n",
       "      <th>Fireplaces</th>\n",
       "      <th>Garage_Built_Year</th>\n",
       "      <th>Garage_Size</th>\n",
       "      <th>Garage_Area</th>\n",
       "      <th>W_Deck_Area</th>\n",
       "      <th>Open_Lobby_Area</th>\n",
       "      <th>Enclosed_Lobby_Area</th>\n",
       "      <th>Three_Season_Lobby_Area</th>\n",
       "      <th>Screen_Lobby_Area</th>\n",
       "      <th>Pool_Area</th>\n",
       "      <th>Miscellaneous_Value</th>\n",
       "      <th>Month_Sold</th>\n",
       "      <th>Year_Sold</th>\n",
       "      <th>Sale_Price</th>\n",
       "    </tr>\n",
       "  </thead>\n",
       "  <tbody>\n",
       "    <tr>\n",
       "      <th>count</th>\n",
       "      <td>2918.00000</td>\n",
       "      <td>2918.000000</td>\n",
       "      <td>2432.000000</td>\n",
       "      <td>2918.000000</td>\n",
       "      <td>2918.000000</td>\n",
       "      <td>2918.000000</td>\n",
       "      <td>2918.000000</td>\n",
       "      <td>2918.000000</td>\n",
       "      <td>2895.000000</td>\n",
       "      <td>2917.000000</td>\n",
       "      <td>2917.000000</td>\n",
       "      <td>2917.000000</td>\n",
       "      <td>2917.000000</td>\n",
       "      <td>2918.000000</td>\n",
       "      <td>2918.000000</td>\n",
       "      <td>2918.000000</td>\n",
       "      <td>2918.000000</td>\n",
       "      <td>2916.000000</td>\n",
       "      <td>2916.000000</td>\n",
       "      <td>2918.000000</td>\n",
       "      <td>2918.000000</td>\n",
       "      <td>2918.000000</td>\n",
       "      <td>2918.000000</td>\n",
       "      <td>2918.000000</td>\n",
       "      <td>2918.000000</td>\n",
       "      <td>2759.000000</td>\n",
       "      <td>2917.000000</td>\n",
       "      <td>2917.000000</td>\n",
       "      <td>2918.000000</td>\n",
       "      <td>2918.000000</td>\n",
       "      <td>2918.000000</td>\n",
       "      <td>2918.000000</td>\n",
       "      <td>2918.000000</td>\n",
       "      <td>2918.000000</td>\n",
       "      <td>2918.000000</td>\n",
       "      <td>2918.000000</td>\n",
       "      <td>2918.000000</td>\n",
       "      <td>1459.000000</td>\n",
       "    </tr>\n",
       "    <tr>\n",
       "      <th>mean</th>\n",
       "      <td>729.00000</td>\n",
       "      <td>57.150446</td>\n",
       "      <td>69.303454</td>\n",
       "      <td>10194.634957</td>\n",
       "      <td>6.089445</td>\n",
       "      <td>5.564428</td>\n",
       "      <td>1971.314942</td>\n",
       "      <td>1984.271076</td>\n",
       "      <td>102.236615</td>\n",
       "      <td>441.290024</td>\n",
       "      <td>49.499829</td>\n",
       "      <td>560.917724</td>\n",
       "      <td>1051.707576</td>\n",
       "      <td>1159.548663</td>\n",
       "      <td>336.599040</td>\n",
       "      <td>4.696025</td>\n",
       "      <td>1500.843729</td>\n",
       "      <td>0.429698</td>\n",
       "      <td>0.061385</td>\n",
       "      <td>1.568197</td>\n",
       "      <td>0.380055</td>\n",
       "      <td>2.860178</td>\n",
       "      <td>1.044551</td>\n",
       "      <td>6.451679</td>\n",
       "      <td>0.597327</td>\n",
       "      <td>1978.118159</td>\n",
       "      <td>1.766884</td>\n",
       "      <td>471.851510</td>\n",
       "      <td>93.095222</td>\n",
       "      <td>48.062908</td>\n",
       "      <td>24.411772</td>\n",
       "      <td>2.603153</td>\n",
       "      <td>16.067855</td>\n",
       "      <td>2.252570</td>\n",
       "      <td>50.843386</td>\n",
       "      <td>6.213160</td>\n",
       "      <td>2007.792666</td>\n",
       "      <td>180944.102810</td>\n",
       "    </tr>\n",
       "    <tr>\n",
       "      <th>std</th>\n",
       "      <td>421.24911</td>\n",
       "      <td>42.519354</td>\n",
       "      <td>23.349420</td>\n",
       "      <td>7888.702911</td>\n",
       "      <td>1.410045</td>\n",
       "      <td>1.113292</td>\n",
       "      <td>30.296408</td>\n",
       "      <td>20.894880</td>\n",
       "      <td>179.355169</td>\n",
       "      <td>455.632103</td>\n",
       "      <td>169.176028</td>\n",
       "      <td>439.548616</td>\n",
       "      <td>440.825601</td>\n",
       "      <td>392.425265</td>\n",
       "      <td>428.729653</td>\n",
       "      <td>46.404695</td>\n",
       "      <td>506.117484</td>\n",
       "      <td>0.524719</td>\n",
       "      <td>0.245726</td>\n",
       "      <td>0.552964</td>\n",
       "      <td>0.502827</td>\n",
       "      <td>0.822830</td>\n",
       "      <td>0.214497</td>\n",
       "      <td>1.569626</td>\n",
       "      <td>0.646145</td>\n",
       "      <td>25.577701</td>\n",
       "      <td>0.761623</td>\n",
       "      <td>213.846684</td>\n",
       "      <td>126.257764</td>\n",
       "      <td>68.167925</td>\n",
       "      <td>64.346881</td>\n",
       "      <td>25.192440</td>\n",
       "      <td>56.193208</td>\n",
       "      <td>35.670034</td>\n",
       "      <td>567.498680</td>\n",
       "      <td>2.715224</td>\n",
       "      <td>1.315184</td>\n",
       "      <td>79464.918335</td>\n",
       "    </tr>\n",
       "    <tr>\n",
       "      <th>min</th>\n",
       "      <td>0.00000</td>\n",
       "      <td>20.000000</td>\n",
       "      <td>21.000000</td>\n",
       "      <td>-4265.104479</td>\n",
       "      <td>1.000000</td>\n",
       "      <td>1.000000</td>\n",
       "      <td>1872.000000</td>\n",
       "      <td>1950.000000</td>\n",
       "      <td>0.000000</td>\n",
       "      <td>0.000000</td>\n",
       "      <td>0.000000</td>\n",
       "      <td>0.000000</td>\n",
       "      <td>0.000000</td>\n",
       "      <td>334.000000</td>\n",
       "      <td>0.000000</td>\n",
       "      <td>0.000000</td>\n",
       "      <td>334.000000</td>\n",
       "      <td>0.000000</td>\n",
       "      <td>0.000000</td>\n",
       "      <td>0.000000</td>\n",
       "      <td>0.000000</td>\n",
       "      <td>0.000000</td>\n",
       "      <td>0.000000</td>\n",
       "      <td>2.000000</td>\n",
       "      <td>0.000000</td>\n",
       "      <td>1895.000000</td>\n",
       "      <td>0.000000</td>\n",
       "      <td>-129.369350</td>\n",
       "      <td>-338.112031</td>\n",
       "      <td>-187.149958</td>\n",
       "      <td>-164.807386</td>\n",
       "      <td>0.000000</td>\n",
       "      <td>0.000000</td>\n",
       "      <td>0.000000</td>\n",
       "      <td>0.000000</td>\n",
       "      <td>1.000000</td>\n",
       "      <td>2006.000000</td>\n",
       "      <td>34900.000000</td>\n",
       "    </tr>\n",
       "    <tr>\n",
       "      <th>25%</th>\n",
       "      <td>364.25000</td>\n",
       "      <td>20.000000</td>\n",
       "      <td>59.000000</td>\n",
       "      <td>7134.500000</td>\n",
       "      <td>5.000000</td>\n",
       "      <td>5.000000</td>\n",
       "      <td>1953.250000</td>\n",
       "      <td>1965.000000</td>\n",
       "      <td>0.000000</td>\n",
       "      <td>0.000000</td>\n",
       "      <td>0.000000</td>\n",
       "      <td>220.000000</td>\n",
       "      <td>793.000000</td>\n",
       "      <td>876.000000</td>\n",
       "      <td>0.000000</td>\n",
       "      <td>0.000000</td>\n",
       "      <td>1126.000000</td>\n",
       "      <td>0.000000</td>\n",
       "      <td>0.000000</td>\n",
       "      <td>1.000000</td>\n",
       "      <td>0.000000</td>\n",
       "      <td>2.000000</td>\n",
       "      <td>1.000000</td>\n",
       "      <td>5.000000</td>\n",
       "      <td>0.000000</td>\n",
       "      <td>1960.000000</td>\n",
       "      <td>1.000000</td>\n",
       "      <td>323.000000</td>\n",
       "      <td>0.000000</td>\n",
       "      <td>0.000000</td>\n",
       "      <td>0.000000</td>\n",
       "      <td>0.000000</td>\n",
       "      <td>0.000000</td>\n",
       "      <td>0.000000</td>\n",
       "      <td>0.000000</td>\n",
       "      <td>4.000000</td>\n",
       "      <td>2007.000000</td>\n",
       "      <td>129950.000000</td>\n",
       "    </tr>\n",
       "    <tr>\n",
       "      <th>50%</th>\n",
       "      <td>729.00000</td>\n",
       "      <td>50.000000</td>\n",
       "      <td>68.000000</td>\n",
       "      <td>9600.000000</td>\n",
       "      <td>6.000000</td>\n",
       "      <td>5.000000</td>\n",
       "      <td>1973.000000</td>\n",
       "      <td>1993.000000</td>\n",
       "      <td>0.000000</td>\n",
       "      <td>368.000000</td>\n",
       "      <td>0.000000</td>\n",
       "      <td>467.000000</td>\n",
       "      <td>989.000000</td>\n",
       "      <td>1082.000000</td>\n",
       "      <td>0.000000</td>\n",
       "      <td>0.000000</td>\n",
       "      <td>1444.000000</td>\n",
       "      <td>0.000000</td>\n",
       "      <td>0.000000</td>\n",
       "      <td>2.000000</td>\n",
       "      <td>0.000000</td>\n",
       "      <td>3.000000</td>\n",
       "      <td>1.000000</td>\n",
       "      <td>6.000000</td>\n",
       "      <td>1.000000</td>\n",
       "      <td>1979.000000</td>\n",
       "      <td>2.000000</td>\n",
       "      <td>477.000000</td>\n",
       "      <td>75.123594</td>\n",
       "      <td>36.000000</td>\n",
       "      <td>0.000000</td>\n",
       "      <td>0.000000</td>\n",
       "      <td>0.000000</td>\n",
       "      <td>0.000000</td>\n",
       "      <td>0.000000</td>\n",
       "      <td>6.000000</td>\n",
       "      <td>2008.000000</td>\n",
       "      <td>163000.000000</td>\n",
       "    </tr>\n",
       "    <tr>\n",
       "      <th>75%</th>\n",
       "      <td>1093.75000</td>\n",
       "      <td>70.000000</td>\n",
       "      <td>80.000000</td>\n",
       "      <td>12342.000000</td>\n",
       "      <td>7.000000</td>\n",
       "      <td>6.000000</td>\n",
       "      <td>2001.000000</td>\n",
       "      <td>2004.000000</td>\n",
       "      <td>164.000000</td>\n",
       "      <td>733.000000</td>\n",
       "      <td>0.000000</td>\n",
       "      <td>806.000000</td>\n",
       "      <td>1302.000000</td>\n",
       "      <td>1387.750000</td>\n",
       "      <td>704.000000</td>\n",
       "      <td>0.000000</td>\n",
       "      <td>1743.750000</td>\n",
       "      <td>1.000000</td>\n",
       "      <td>0.000000</td>\n",
       "      <td>2.000000</td>\n",
       "      <td>1.000000</td>\n",
       "      <td>3.000000</td>\n",
       "      <td>1.000000</td>\n",
       "      <td>7.000000</td>\n",
       "      <td>1.000000</td>\n",
       "      <td>2002.000000</td>\n",
       "      <td>2.000000</td>\n",
       "      <td>593.481992</td>\n",
       "      <td>173.183207</td>\n",
       "      <td>86.733331</td>\n",
       "      <td>50.325034</td>\n",
       "      <td>0.000000</td>\n",
       "      <td>0.000000</td>\n",
       "      <td>0.000000</td>\n",
       "      <td>0.000000</td>\n",
       "      <td>8.000000</td>\n",
       "      <td>2009.000000</td>\n",
       "      <td>214000.000000</td>\n",
       "    </tr>\n",
       "    <tr>\n",
       "      <th>max</th>\n",
       "      <td>1458.00000</td>\n",
       "      <td>190.000000</td>\n",
       "      <td>313.000000</td>\n",
       "      <td>215245.000000</td>\n",
       "      <td>10.000000</td>\n",
       "      <td>9.000000</td>\n",
       "      <td>2010.000000</td>\n",
       "      <td>2010.000000</td>\n",
       "      <td>1600.000000</td>\n",
       "      <td>5644.000000</td>\n",
       "      <td>1526.000000</td>\n",
       "      <td>2336.000000</td>\n",
       "      <td>6110.000000</td>\n",
       "      <td>5095.000000</td>\n",
       "      <td>2065.000000</td>\n",
       "      <td>1064.000000</td>\n",
       "      <td>5642.000000</td>\n",
       "      <td>3.000000</td>\n",
       "      <td>2.000000</td>\n",
       "      <td>4.000000</td>\n",
       "      <td>2.000000</td>\n",
       "      <td>8.000000</td>\n",
       "      <td>3.000000</td>\n",
       "      <td>15.000000</td>\n",
       "      <td>4.000000</td>\n",
       "      <td>2207.000000</td>\n",
       "      <td>5.000000</td>\n",
       "      <td>1488.000000</td>\n",
       "      <td>1424.000000</td>\n",
       "      <td>742.000000</td>\n",
       "      <td>1012.000000</td>\n",
       "      <td>508.000000</td>\n",
       "      <td>576.000000</td>\n",
       "      <td>800.000000</td>\n",
       "      <td>17000.000000</td>\n",
       "      <td>12.000000</td>\n",
       "      <td>2010.000000</td>\n",
       "      <td>755000.000000</td>\n",
       "    </tr>\n",
       "  </tbody>\n",
       "</table>\n",
       "</div>"
      ],
      "text/plain": [
       "            index  Building_Class   Lot_Extent       Lot_Size  \\\n",
       "count  2918.00000     2918.000000  2432.000000    2918.000000   \n",
       "mean    729.00000       57.150446    69.303454   10194.634957   \n",
       "std     421.24911       42.519354    23.349420    7888.702911   \n",
       "min       0.00000       20.000000    21.000000   -4265.104479   \n",
       "25%     364.25000       20.000000    59.000000    7134.500000   \n",
       "50%     729.00000       50.000000    68.000000    9600.000000   \n",
       "75%    1093.75000       70.000000    80.000000   12342.000000   \n",
       "max    1458.00000      190.000000   313.000000  215245.000000   \n",
       "\n",
       "       Overall_Material  House_Condition  Construction_Year  Remodel_Year  \\\n",
       "count       2918.000000      2918.000000        2918.000000   2918.000000   \n",
       "mean           6.089445         5.564428        1971.314942   1984.271076   \n",
       "std            1.410045         1.113292          30.296408     20.894880   \n",
       "min            1.000000         1.000000        1872.000000   1950.000000   \n",
       "25%            5.000000         5.000000        1953.250000   1965.000000   \n",
       "50%            6.000000         5.000000        1973.000000   1993.000000   \n",
       "75%            7.000000         6.000000        2001.000000   2004.000000   \n",
       "max           10.000000         9.000000        2010.000000   2010.000000   \n",
       "\n",
       "       Brick_Veneer_Area   BsmtFinSF1   BsmtFinSF2    BsmtUnfSF  \\\n",
       "count        2895.000000  2917.000000  2917.000000  2917.000000   \n",
       "mean          102.236615   441.290024    49.499829   560.917724   \n",
       "std           179.355169   455.632103   169.176028   439.548616   \n",
       "min             0.000000     0.000000     0.000000     0.000000   \n",
       "25%             0.000000     0.000000     0.000000   220.000000   \n",
       "50%             0.000000   368.000000     0.000000   467.000000   \n",
       "75%           164.000000   733.000000     0.000000   806.000000   \n",
       "max          1600.000000  5644.000000  1526.000000  2336.000000   \n",
       "\n",
       "       Total_Basement_Area  First_Floor_Area  Second_Floor_Area  LowQualFinSF  \\\n",
       "count          2917.000000       2918.000000        2918.000000   2918.000000   \n",
       "mean           1051.707576       1159.548663         336.599040      4.696025   \n",
       "std             440.825601        392.425265         428.729653     46.404695   \n",
       "min               0.000000        334.000000           0.000000      0.000000   \n",
       "25%             793.000000        876.000000           0.000000      0.000000   \n",
       "50%             989.000000       1082.000000           0.000000      0.000000   \n",
       "75%            1302.000000       1387.750000         704.000000      0.000000   \n",
       "max            6110.000000       5095.000000        2065.000000   1064.000000   \n",
       "\n",
       "       Grade_Living_Area  Underground_Full_Bathroom  \\\n",
       "count        2918.000000                2916.000000   \n",
       "mean         1500.843729                   0.429698   \n",
       "std           506.117484                   0.524719   \n",
       "min           334.000000                   0.000000   \n",
       "25%          1126.000000                   0.000000   \n",
       "50%          1444.000000                   0.000000   \n",
       "75%          1743.750000                   1.000000   \n",
       "max          5642.000000                   3.000000   \n",
       "\n",
       "       Underground_Half_Bathroom  Full_Bathroom_Above_Grade  \\\n",
       "count                2916.000000                2918.000000   \n",
       "mean                    0.061385                   1.568197   \n",
       "std                     0.245726                   0.552964   \n",
       "min                     0.000000                   0.000000   \n",
       "25%                     0.000000                   1.000000   \n",
       "50%                     0.000000                   2.000000   \n",
       "75%                     0.000000                   2.000000   \n",
       "max                     2.000000                   4.000000   \n",
       "\n",
       "       Half_Bathroom_Above_Grade  Bedroom_Above_Grade  Kitchen_Above_Grade  \\\n",
       "count                2918.000000          2918.000000          2918.000000   \n",
       "mean                    0.380055             2.860178             1.044551   \n",
       "std                     0.502827             0.822830             0.214497   \n",
       "min                     0.000000             0.000000             0.000000   \n",
       "25%                     0.000000             2.000000             1.000000   \n",
       "50%                     0.000000             3.000000             1.000000   \n",
       "75%                     1.000000             3.000000             1.000000   \n",
       "max                     2.000000             8.000000             3.000000   \n",
       "\n",
       "       Rooms_Above_Grade   Fireplaces  Garage_Built_Year  Garage_Size  \\\n",
       "count        2918.000000  2918.000000        2759.000000  2917.000000   \n",
       "mean            6.451679     0.597327        1978.118159     1.766884   \n",
       "std             1.569626     0.646145          25.577701     0.761623   \n",
       "min             2.000000     0.000000        1895.000000     0.000000   \n",
       "25%             5.000000     0.000000        1960.000000     1.000000   \n",
       "50%             6.000000     1.000000        1979.000000     2.000000   \n",
       "75%             7.000000     1.000000        2002.000000     2.000000   \n",
       "max            15.000000     4.000000        2207.000000     5.000000   \n",
       "\n",
       "       Garage_Area  W_Deck_Area  Open_Lobby_Area  Enclosed_Lobby_Area  \\\n",
       "count  2917.000000  2918.000000      2918.000000          2918.000000   \n",
       "mean    471.851510    93.095222        48.062908            24.411772   \n",
       "std     213.846684   126.257764        68.167925            64.346881   \n",
       "min    -129.369350  -338.112031      -187.149958          -164.807386   \n",
       "25%     323.000000     0.000000         0.000000             0.000000   \n",
       "50%     477.000000    75.123594        36.000000             0.000000   \n",
       "75%     593.481992   173.183207        86.733331            50.325034   \n",
       "max    1488.000000  1424.000000       742.000000          1012.000000   \n",
       "\n",
       "       Three_Season_Lobby_Area  Screen_Lobby_Area    Pool_Area  \\\n",
       "count              2918.000000        2918.000000  2918.000000   \n",
       "mean                  2.603153          16.067855     2.252570   \n",
       "std                  25.192440          56.193208    35.670034   \n",
       "min                   0.000000           0.000000     0.000000   \n",
       "25%                   0.000000           0.000000     0.000000   \n",
       "50%                   0.000000           0.000000     0.000000   \n",
       "75%                   0.000000           0.000000     0.000000   \n",
       "max                 508.000000         576.000000   800.000000   \n",
       "\n",
       "       Miscellaneous_Value   Month_Sold    Year_Sold     Sale_Price  \n",
       "count          2918.000000  2918.000000  2918.000000    1459.000000  \n",
       "mean             50.843386     6.213160  2007.792666  180944.102810  \n",
       "std             567.498680     2.715224     1.315184   79464.918335  \n",
       "min               0.000000     1.000000  2006.000000   34900.000000  \n",
       "25%               0.000000     4.000000  2007.000000  129950.000000  \n",
       "50%               0.000000     6.000000  2008.000000  163000.000000  \n",
       "75%               0.000000     8.000000  2009.000000  214000.000000  \n",
       "max           17000.000000    12.000000  2010.000000  755000.000000  "
      ]
     },
     "execution_count": 85,
     "metadata": {},
     "output_type": "execute_result"
    }
   ],
   "source": [
    "alldata.describe()"
   ]
  },
  {
   "cell_type": "markdown",
   "metadata": {
    "colab_type": "text",
    "id": "9qpMk01XRgoq"
   },
   "source": [
    "Summary of statistics pertaining to the DataFrame columns. This function gives the mean, std, minimum value, maximum value and IQR values and given summary about numeric columns"
   ]
  },
  {
   "cell_type": "markdown",
   "metadata": {
    "colab_type": "text",
    "id": "IcSBXQJbRgor"
   },
   "source": [
    "### Examine the numerical and categorical features in the dataset"
   ]
  },
  {
   "cell_type": "code",
   "execution_count": 86,
   "metadata": {
    "colab": {
     "base_uri": "https://localhost:8080/",
     "height": 238
    },
    "colab_type": "code",
    "executionInfo": {
     "elapsed": 58062,
     "status": "ok",
     "timestamp": 1591475662122,
     "user": {
      "displayName": "Upal Roy",
      "photoUrl": "https://lh3.googleusercontent.com/a-/AOh14Gh3ZcxNJOImetV4fnumMA01jK279Xfnb3YIYO61fA=s64",
      "userId": "00708235415135331858"
     },
     "user_tz": -330
    },
    "id": "YE-h2RS4Rgor",
    "outputId": "7a99a88a-2edf-4fd9-fd7d-fd4835d82855"
   },
   "outputs": [
    {
     "data": {
      "text/plain": [
       "Index(['index', 'Building_Class', 'Lot_Extent', 'Lot_Size', 'Overall_Material',\n",
       "       'House_Condition', 'Construction_Year', 'Remodel_Year',\n",
       "       'Brick_Veneer_Area', 'BsmtFinSF1', 'BsmtFinSF2', 'BsmtUnfSF',\n",
       "       'Total_Basement_Area', 'First_Floor_Area', 'Second_Floor_Area',\n",
       "       'LowQualFinSF', 'Grade_Living_Area', 'Underground_Full_Bathroom',\n",
       "       'Underground_Half_Bathroom', 'Full_Bathroom_Above_Grade',\n",
       "       'Half_Bathroom_Above_Grade', 'Bedroom_Above_Grade',\n",
       "       'Kitchen_Above_Grade', 'Rooms_Above_Grade', 'Fireplaces',\n",
       "       'Garage_Built_Year', 'Garage_Size', 'Garage_Area', 'W_Deck_Area',\n",
       "       'Open_Lobby_Area', 'Enclosed_Lobby_Area', 'Three_Season_Lobby_Area',\n",
       "       'Screen_Lobby_Area', 'Pool_Area', 'Miscellaneous_Value', 'Month_Sold',\n",
       "       'Year_Sold', 'Sale_Price'],\n",
       "      dtype='object')"
      ]
     },
     "execution_count": 86,
     "metadata": {},
     "output_type": "execute_result"
    }
   ],
   "source": [
    "df_numeric_features = alldata.select_dtypes(include=[np.number])\n",
    "\n",
    "df_numeric_features.columns"
   ]
  },
  {
   "cell_type": "code",
   "execution_count": 87,
   "metadata": {
    "colab": {
     "base_uri": "https://localhost:8080/",
     "height": 238
    },
    "colab_type": "code",
    "executionInfo": {
     "elapsed": 58048,
     "status": "ok",
     "timestamp": 1591475662123,
     "user": {
      "displayName": "Upal Roy",
      "photoUrl": "https://lh3.googleusercontent.com/a-/AOh14Gh3ZcxNJOImetV4fnumMA01jK279Xfnb3YIYO61fA=s64",
      "userId": "00708235415135331858"
     },
     "user_tz": -330
    },
    "id": "5NAPSQfeRgou",
    "outputId": "344554c9-6317-44b6-ef4d-292b02a72f6d"
   },
   "outputs": [
    {
     "data": {
      "text/plain": [
       "Index(['Zoning_Class', 'Road_Type', 'Lane_Type', 'Property_Shape',\n",
       "       'Land_Outline', 'Utility_Type', 'Lot_Configuration', 'Property_Slope',\n",
       "       'Neighborhood', 'Condition1', 'Condition2', 'House_Type',\n",
       "       'House_Design', 'Roof_Design', 'Roof_Quality', 'Exterior1st',\n",
       "       'Exterior2nd', 'Brick_Veneer_Type', 'Exterior_Material',\n",
       "       'Exterior_Condition', 'Foundation_Type', 'Basement_Height',\n",
       "       'Basement_Condition', 'Exposure_Level', 'BsmtFinType1', 'BsmtFinType2',\n",
       "       'Heating_Type', 'Heating_Quality', 'Air_Conditioning',\n",
       "       'Electrical_System', 'Kitchen_Quality', 'Functional_Rate',\n",
       "       'Fireplace_Quality', 'Garage', 'Garage_Finish_Year', 'Garage_Quality',\n",
       "       'Garage_Condition', 'Pavedd_Drive', 'Pool_Quality', 'Fence_Quality',\n",
       "       'Miscellaneous_Feature', 'Sale_Type', 'Sale_Condition'],\n",
       "      dtype='object')"
      ]
     },
     "execution_count": 87,
     "metadata": {},
     "output_type": "execute_result"
    }
   ],
   "source": [
    "df_categorical_features = alldata.select_dtypes(include=[np.object])\n",
    "\n",
    "df_categorical_features.columns"
   ]
  },
  {
   "cell_type": "markdown",
   "metadata": {
    "colab_type": "text",
    "id": "opzclRQoRgow"
   },
   "source": [
    "### Missing Values Analysis\n",
    "Most libraries will give you an error if you try to build a model using data with missing values Python libraries represent missing numbers as nan which is short for \"not a number\". You can detect which cells have missing values, and then count how many there are in each column with the command"
   ]
  },
  {
   "cell_type": "code",
   "execution_count": 88,
   "metadata": {
    "colab": {
     "base_uri": "https://localhost:8080/",
     "height": 221
    },
    "colab_type": "code",
    "executionInfo": {
     "elapsed": 58033,
     "status": "ok",
     "timestamp": 1591475662123,
     "user": {
      "displayName": "Upal Roy",
      "photoUrl": "https://lh3.googleusercontent.com/a-/AOh14Gh3ZcxNJOImetV4fnumMA01jK279Xfnb3YIYO61fA=s64",
      "userId": "00708235415135331858"
     },
     "user_tz": -330
    },
    "id": "6NUhr7zgRgox",
    "outputId": "fcb4ef36-dbc5-4d15-a7dd-76aad67421c0",
    "scrolled": true
   },
   "outputs": [
    {
     "data": {
      "text/plain": [
       "index                0\n",
       "Building_Class       0\n",
       "Zoning_Class         4\n",
       "Lot_Extent         486\n",
       "Lot_Size             0\n",
       "                  ... \n",
       "Month_Sold           0\n",
       "Year_Sold            0\n",
       "Sale_Type            1\n",
       "Sale_Condition       0\n",
       "Sale_Price        1459\n",
       "Length: 81, dtype: int64"
      ]
     },
     "execution_count": 88,
     "metadata": {},
     "output_type": "execute_result"
    }
   ],
   "source": [
    "# check for missing values\n",
    "missing = alldata.isnull().sum()\n",
    "missing"
   ]
  },
  {
   "cell_type": "code",
   "execution_count": 89,
   "metadata": {
    "colab": {
     "base_uri": "https://localhost:8080/",
     "height": 417
    },
    "colab_type": "code",
    "executionInfo": {
     "elapsed": 58873,
     "status": "ok",
     "timestamp": 1591475662977,
     "user": {
      "displayName": "Upal Roy",
      "photoUrl": "https://lh3.googleusercontent.com/a-/AOh14Gh3ZcxNJOImetV4fnumMA01jK279Xfnb3YIYO61fA=s64",
      "userId": "00708235415135331858"
     },
     "user_tz": -330
    },
    "id": "6fUaxpuZRgoz",
    "outputId": "4f280a7a-b63a-4521-8237-e61bd7c16c12"
   },
   "outputs": [
    {
     "data": {
      "image/png": "[encoded data removed]",
      "text/plain": [
       "<Figure size 432x288 with 1 Axes>"
      ]
     },
     "metadata": {
      "needs_background": "light"
     },
     "output_type": "display_data"
    }
   ],
   "source": [
    "# check for missing values\n",
    "missing = alldata.isnull().sum()\n",
    "missing = missing[missing > 0]\n",
    "# we can use bar plot to check missing values\n",
    "missing.sort_values(inplace=True)\n",
    "missing.plot.bar()\n",
    "plt.show()"
   ]
  },
  {
   "cell_type": "markdown",
   "metadata": {
    "colab_type": "text",
    "id": "bP7A-pnhRgo2"
   },
   "source": [
    "There are 35 attributes have missing values"
   ]
  },
  {
   "cell_type": "markdown",
   "metadata": {
    "colab_type": "text",
    "id": "pYa39baoRgo2"
   },
   "source": [
    "### Missing value treatment for numerical features"
   ]
  },
  {
   "cell_type": "code",
   "execution_count": 90,
   "metadata": {
    "colab": {},
    "colab_type": "code",
    "id": "7aE5P7L8Rgo3"
   },
   "outputs": [],
   "source": [
    "# fill na with median\n",
    "alldata.fillna(alldata.median(), inplace=True)"
   ]
  },
  {
   "cell_type": "code",
   "execution_count": 91,
   "metadata": {
    "colab": {
     "base_uri": "https://localhost:8080/",
     "height": 386
    },
    "colab_type": "code",
    "executionInfo": {
     "elapsed": 58851,
     "status": "ok",
     "timestamp": 1591475662979,
     "user": {
      "displayName": "Upal Roy",
      "photoUrl": "https://lh3.googleusercontent.com/a-/AOh14Gh3ZcxNJOImetV4fnumMA01jK279Xfnb3YIYO61fA=s64",
      "userId": "00708235415135331858"
     },
     "user_tz": -330
    },
    "id": "WgmzUwPARgo8",
    "outputId": "7afc9829-81a8-4e63-929f-9f6a41a672df"
   },
   "outputs": [
    {
     "data": {
      "text/plain": [
       "<matplotlib.axes._subplots.AxesSubplot at 0x1b03d8cce88>"
      ]
     },
     "execution_count": 91,
     "metadata": {},
     "output_type": "execute_result"
    },
    {
     "data": {
      "image/png": "[encoded data removed]",
      "text/plain": [
       "<Figure size 432x288 with 1 Axes>"
      ]
     },
     "metadata": {
      "needs_background": "light"
     },
     "output_type": "display_data"
    }
   ],
   "source": [
    "# Again check for missing values\n",
    "missing = alldata.isnull().sum()\n",
    "missing = missing[missing > 0]\n",
    "# we can use bar plot to check missing values\n",
    "missing.sort_values(inplace=True)\n",
    "missing.plot.bar()"
   ]
  },
  {
   "cell_type": "markdown",
   "metadata": {
    "colab_type": "text",
    "id": "Cw6LNbZKRgpA"
   },
   "source": [
    "We can only replace missing values by mean whose data type is numeric.\n",
    "For a few columns there is lots of NaN entries.\n",
    "However, reading the data description we find this is not missing data:\n",
    "For Pool_Quality, NaN is not missing data but means no pool, likewise for Fence_Quality, Fireplace_Quality etc."
   ]
  },
  {
   "cell_type": "markdown",
   "metadata": {
    "colab_type": "text",
    "id": "EjcKMoC_RgpB"
   },
   "source": [
    "### Missing value treatment for categorical features"
   ]
  },
  {
   "cell_type": "code",
   "execution_count": 92,
   "metadata": {
    "colab": {},
    "colab_type": "code",
    "id": "KDTqaZ-XRgpB"
   },
   "outputs": [],
   "source": [
    "# Replace nan with None in these columns\n",
    "cols_fillna = ['Pool_Quality','Miscellaneous_Feature','Lane_Type','Fence_Quality','Brick_Veneer_Type','Fireplace_Quality',\n",
    "               'Garage_Quality','Garage_Condition', 'Electrical_System','Garage_Finish_Year', \n",
    "               'Exposure_Level','Basement_Condition','Basement_Height','BsmtFinType1','BsmtFinType2','Garage','Zoning_Class','Functional_Rate',\n",
    "               'Utility_Type','Exterior1st','Sale_Type','Exterior2nd','Kitchen_Quality','Electrical_System']\n",
    "for col in cols_fillna:\n",
    "    alldata[col].fillna('None',inplace=True)"
   ]
  },
  {
   "cell_type": "code",
   "execution_count": 93,
   "metadata": {
    "colab": {
     "base_uri": "https://localhost:8080/",
     "height": 221
    },
    "colab_type": "code",
    "executionInfo": {
     "elapsed": 58816,
     "status": "ok",
     "timestamp": 1591475662980,
     "user": {
      "displayName": "Upal Roy",
      "photoUrl": "https://lh3.googleusercontent.com/a-/AOh14Gh3ZcxNJOImetV4fnumMA01jK279Xfnb3YIYO61fA=s64",
      "userId": "00708235415135331858"
     },
     "user_tz": -330
    },
    "id": "279BV8WjRgpG",
    "outputId": "ee57c07e-8128-41eb-8cf7-c2ee03d4ac3c"
   },
   "outputs": [
    {
     "data": {
      "text/plain": [
       "index             0\n",
       "Building_Class    0\n",
       "Zoning_Class      0\n",
       "Lot_Extent        0\n",
       "Lot_Size          0\n",
       "                 ..\n",
       "Month_Sold        0\n",
       "Year_Sold         0\n",
       "Sale_Type         0\n",
       "Sale_Condition    0\n",
       "Sale_Price        0\n",
       "Length: 81, dtype: int64"
      ]
     },
     "execution_count": 93,
     "metadata": {},
     "output_type": "execute_result"
    }
   ],
   "source": [
    "# Again check for missing values\n",
    "alldata.isnull().sum()"
   ]
  },
  {
   "cell_type": "markdown",
   "metadata": {
    "colab_type": "text",
    "id": "LArtvNjXRgpI"
   },
   "source": [
    "### Examine the numerical and categorical features in the dataset after missing value treatment"
   ]
  },
  {
   "cell_type": "code",
   "execution_count": 94,
   "metadata": {
    "colab": {
     "base_uri": "https://localhost:8080/",
     "height": 238
    },
    "colab_type": "code",
    "executionInfo": {
     "elapsed": 58803,
     "status": "ok",
     "timestamp": 1591475662981,
     "user": {
      "displayName": "Upal Roy",
      "photoUrl": "https://lh3.googleusercontent.com/a-/AOh14Gh3ZcxNJOImetV4fnumMA01jK279Xfnb3YIYO61fA=s64",
      "userId": "00708235415135331858"
     },
     "user_tz": -330
    },
    "id": "0d18f09HRgpJ",
    "outputId": "eb7918d4-528b-4b10-fea0-299367d90c9e"
   },
   "outputs": [
    {
     "data": {
      "text/plain": [
       "Index(['index', 'Building_Class', 'Lot_Extent', 'Lot_Size', 'Overall_Material',\n",
       "       'House_Condition', 'Construction_Year', 'Remodel_Year',\n",
       "       'Brick_Veneer_Area', 'BsmtFinSF1', 'BsmtFinSF2', 'BsmtUnfSF',\n",
       "       'Total_Basement_Area', 'First_Floor_Area', 'Second_Floor_Area',\n",
       "       'LowQualFinSF', 'Grade_Living_Area', 'Underground_Full_Bathroom',\n",
       "       'Underground_Half_Bathroom', 'Full_Bathroom_Above_Grade',\n",
       "       'Half_Bathroom_Above_Grade', 'Bedroom_Above_Grade',\n",
       "       'Kitchen_Above_Grade', 'Rooms_Above_Grade', 'Fireplaces',\n",
       "       'Garage_Built_Year', 'Garage_Size', 'Garage_Area', 'W_Deck_Area',\n",
       "       'Open_Lobby_Area', 'Enclosed_Lobby_Area', 'Three_Season_Lobby_Area',\n",
       "       'Screen_Lobby_Area', 'Pool_Area', 'Miscellaneous_Value', 'Month_Sold',\n",
       "       'Year_Sold', 'Sale_Price'],\n",
       "      dtype='object')"
      ]
     },
     "execution_count": 94,
     "metadata": {},
     "output_type": "execute_result"
    }
   ],
   "source": [
    "df_numeric_features = alldata.select_dtypes(include=[np.number])\n",
    "\n",
    "df_numeric_features.columns"
   ]
  },
  {
   "cell_type": "code",
   "execution_count": 95,
   "metadata": {
    "colab": {
     "base_uri": "https://localhost:8080/",
     "height": 224
    },
    "colab_type": "code",
    "executionInfo": {
     "elapsed": 58788,
     "status": "ok",
     "timestamp": 1591475662982,
     "user": {
      "displayName": "Upal Roy",
      "photoUrl": "https://lh3.googleusercontent.com/a-/AOh14Gh3ZcxNJOImetV4fnumMA01jK279Xfnb3YIYO61fA=s64",
      "userId": "00708235415135331858"
     },
     "user_tz": -330
    },
    "id": "gBO07cLURgpL",
    "outputId": "56bf61e0-7823-48dc-eb70-c6ce3d529779"
   },
   "outputs": [
    {
     "data": {
      "text/html": [
       "<div>\n",
       "<style scoped>\n",
       "    .dataframe tbody tr th:only-of-type {\n",
       "        vertical-align: middle;\n",
       "    }\n",
       "\n",
       "    .dataframe tbody tr th {\n",
       "        vertical-align: top;\n",
       "    }\n",
       "\n",
       "    .dataframe thead th {\n",
       "        text-align: right;\n",
       "    }\n",
       "</style>\n",
       "<table border=\"1\" class=\"dataframe\">\n",
       "  <thead>\n",
       "    <tr style=\"text-align: right;\">\n",
       "      <th></th>\n",
       "      <th>index</th>\n",
       "      <th>Building_Class</th>\n",
       "      <th>Lot_Extent</th>\n",
       "      <th>Lot_Size</th>\n",
       "      <th>Overall_Material</th>\n",
       "      <th>House_Condition</th>\n",
       "      <th>Construction_Year</th>\n",
       "      <th>Remodel_Year</th>\n",
       "      <th>Brick_Veneer_Area</th>\n",
       "      <th>BsmtFinSF1</th>\n",
       "      <th>BsmtFinSF2</th>\n",
       "      <th>BsmtUnfSF</th>\n",
       "      <th>Total_Basement_Area</th>\n",
       "      <th>First_Floor_Area</th>\n",
       "      <th>Second_Floor_Area</th>\n",
       "      <th>LowQualFinSF</th>\n",
       "      <th>Grade_Living_Area</th>\n",
       "      <th>Underground_Full_Bathroom</th>\n",
       "      <th>Underground_Half_Bathroom</th>\n",
       "      <th>Full_Bathroom_Above_Grade</th>\n",
       "      <th>Half_Bathroom_Above_Grade</th>\n",
       "      <th>Bedroom_Above_Grade</th>\n",
       "      <th>Kitchen_Above_Grade</th>\n",
       "      <th>Rooms_Above_Grade</th>\n",
       "      <th>Fireplaces</th>\n",
       "      <th>Garage_Built_Year</th>\n",
       "      <th>Garage_Size</th>\n",
       "      <th>Garage_Area</th>\n",
       "      <th>W_Deck_Area</th>\n",
       "      <th>Open_Lobby_Area</th>\n",
       "      <th>Enclosed_Lobby_Area</th>\n",
       "      <th>Three_Season_Lobby_Area</th>\n",
       "      <th>Screen_Lobby_Area</th>\n",
       "      <th>Pool_Area</th>\n",
       "      <th>Miscellaneous_Value</th>\n",
       "      <th>Month_Sold</th>\n",
       "      <th>Year_Sold</th>\n",
       "      <th>Sale_Price</th>\n",
       "    </tr>\n",
       "  </thead>\n",
       "  <tbody>\n",
       "    <tr>\n",
       "      <th>0</th>\n",
       "      <td>0</td>\n",
       "      <td>60</td>\n",
       "      <td>65.0</td>\n",
       "      <td>8450.0</td>\n",
       "      <td>7</td>\n",
       "      <td>5</td>\n",
       "      <td>2003</td>\n",
       "      <td>2003</td>\n",
       "      <td>196.0</td>\n",
       "      <td>706.0</td>\n",
       "      <td>0.0</td>\n",
       "      <td>150.0</td>\n",
       "      <td>856.0</td>\n",
       "      <td>856</td>\n",
       "      <td>854</td>\n",
       "      <td>0</td>\n",
       "      <td>1710</td>\n",
       "      <td>1.0</td>\n",
       "      <td>0.0</td>\n",
       "      <td>2</td>\n",
       "      <td>1</td>\n",
       "      <td>3</td>\n",
       "      <td>1</td>\n",
       "      <td>8</td>\n",
       "      <td>0</td>\n",
       "      <td>2003.0</td>\n",
       "      <td>2.0</td>\n",
       "      <td>1085.793744</td>\n",
       "      <td>163.788080</td>\n",
       "      <td>69.596115</td>\n",
       "      <td>20.337934</td>\n",
       "      <td>0</td>\n",
       "      <td>0</td>\n",
       "      <td>0</td>\n",
       "      <td>0</td>\n",
       "      <td>2</td>\n",
       "      <td>2008</td>\n",
       "      <td>208500.0</td>\n",
       "    </tr>\n",
       "    <tr>\n",
       "      <th>1</th>\n",
       "      <td>1</td>\n",
       "      <td>20</td>\n",
       "      <td>80.0</td>\n",
       "      <td>9600.0</td>\n",
       "      <td>6</td>\n",
       "      <td>8</td>\n",
       "      <td>1976</td>\n",
       "      <td>1976</td>\n",
       "      <td>0.0</td>\n",
       "      <td>978.0</td>\n",
       "      <td>0.0</td>\n",
       "      <td>284.0</td>\n",
       "      <td>1262.0</td>\n",
       "      <td>1262</td>\n",
       "      <td>0</td>\n",
       "      <td>0</td>\n",
       "      <td>1262</td>\n",
       "      <td>0.0</td>\n",
       "      <td>1.0</td>\n",
       "      <td>2</td>\n",
       "      <td>0</td>\n",
       "      <td>3</td>\n",
       "      <td>1</td>\n",
       "      <td>6</td>\n",
       "      <td>1</td>\n",
       "      <td>1976.0</td>\n",
       "      <td>2.0</td>\n",
       "      <td>196.316304</td>\n",
       "      <td>198.900074</td>\n",
       "      <td>74.716033</td>\n",
       "      <td>15.039392</td>\n",
       "      <td>0</td>\n",
       "      <td>0</td>\n",
       "      <td>0</td>\n",
       "      <td>0</td>\n",
       "      <td>5</td>\n",
       "      <td>2007</td>\n",
       "      <td>181500.0</td>\n",
       "    </tr>\n",
       "    <tr>\n",
       "      <th>2</th>\n",
       "      <td>2</td>\n",
       "      <td>60</td>\n",
       "      <td>68.0</td>\n",
       "      <td>11250.0</td>\n",
       "      <td>7</td>\n",
       "      <td>5</td>\n",
       "      <td>2001</td>\n",
       "      <td>2002</td>\n",
       "      <td>162.0</td>\n",
       "      <td>486.0</td>\n",
       "      <td>0.0</td>\n",
       "      <td>434.0</td>\n",
       "      <td>920.0</td>\n",
       "      <td>920</td>\n",
       "      <td>866</td>\n",
       "      <td>0</td>\n",
       "      <td>1786</td>\n",
       "      <td>1.0</td>\n",
       "      <td>0.0</td>\n",
       "      <td>2</td>\n",
       "      <td>1</td>\n",
       "      <td>3</td>\n",
       "      <td>1</td>\n",
       "      <td>6</td>\n",
       "      <td>1</td>\n",
       "      <td>2001.0</td>\n",
       "      <td>2.0</td>\n",
       "      <td>218.068403</td>\n",
       "      <td>26.127533</td>\n",
       "      <td>32.085268</td>\n",
       "      <td>-46.232198</td>\n",
       "      <td>0</td>\n",
       "      <td>0</td>\n",
       "      <td>0</td>\n",
       "      <td>0</td>\n",
       "      <td>9</td>\n",
       "      <td>2008</td>\n",
       "      <td>223500.0</td>\n",
       "    </tr>\n",
       "    <tr>\n",
       "      <th>3</th>\n",
       "      <td>3</td>\n",
       "      <td>70</td>\n",
       "      <td>60.0</td>\n",
       "      <td>9550.0</td>\n",
       "      <td>7</td>\n",
       "      <td>5</td>\n",
       "      <td>1915</td>\n",
       "      <td>1970</td>\n",
       "      <td>0.0</td>\n",
       "      <td>216.0</td>\n",
       "      <td>0.0</td>\n",
       "      <td>540.0</td>\n",
       "      <td>756.0</td>\n",
       "      <td>961</td>\n",
       "      <td>756</td>\n",
       "      <td>0</td>\n",
       "      <td>1717</td>\n",
       "      <td>1.0</td>\n",
       "      <td>0.0</td>\n",
       "      <td>1</td>\n",
       "      <td>0</td>\n",
       "      <td>3</td>\n",
       "      <td>1</td>\n",
       "      <td>7</td>\n",
       "      <td>1</td>\n",
       "      <td>1998.0</td>\n",
       "      <td>3.0</td>\n",
       "      <td>696.996439</td>\n",
       "      <td>46.948018</td>\n",
       "      <td>40.181415</td>\n",
       "      <td>60.921821</td>\n",
       "      <td>0</td>\n",
       "      <td>0</td>\n",
       "      <td>0</td>\n",
       "      <td>0</td>\n",
       "      <td>2</td>\n",
       "      <td>2006</td>\n",
       "      <td>140000.0</td>\n",
       "    </tr>\n",
       "    <tr>\n",
       "      <th>4</th>\n",
       "      <td>4</td>\n",
       "      <td>60</td>\n",
       "      <td>84.0</td>\n",
       "      <td>14260.0</td>\n",
       "      <td>8</td>\n",
       "      <td>5</td>\n",
       "      <td>2000</td>\n",
       "      <td>2000</td>\n",
       "      <td>350.0</td>\n",
       "      <td>655.0</td>\n",
       "      <td>0.0</td>\n",
       "      <td>490.0</td>\n",
       "      <td>1145.0</td>\n",
       "      <td>1145</td>\n",
       "      <td>1053</td>\n",
       "      <td>0</td>\n",
       "      <td>2198</td>\n",
       "      <td>1.0</td>\n",
       "      <td>0.0</td>\n",
       "      <td>2</td>\n",
       "      <td>1</td>\n",
       "      <td>4</td>\n",
       "      <td>1</td>\n",
       "      <td>9</td>\n",
       "      <td>1</td>\n",
       "      <td>2000.0</td>\n",
       "      <td>3.0</td>\n",
       "      <td>568.859882</td>\n",
       "      <td>-10.626105</td>\n",
       "      <td>20.755323</td>\n",
       "      <td>21.788818</td>\n",
       "      <td>0</td>\n",
       "      <td>0</td>\n",
       "      <td>0</td>\n",
       "      <td>0</td>\n",
       "      <td>12</td>\n",
       "      <td>2008</td>\n",
       "      <td>250000.0</td>\n",
       "    </tr>\n",
       "  </tbody>\n",
       "</table>\n",
       "</div>"
      ],
      "text/plain": [
       "   index  Building_Class  Lot_Extent  Lot_Size  Overall_Material  \\\n",
       "0      0              60        65.0    8450.0                 7   \n",
       "1      1              20        80.0    9600.0                 6   \n",
       "2      2              60        68.0   11250.0                 7   \n",
       "3      3              70        60.0    9550.0                 7   \n",
       "4      4              60        84.0   14260.0                 8   \n",
       "\n",
       "   House_Condition  Construction_Year  Remodel_Year  Brick_Veneer_Area  \\\n",
       "0                5               2003          2003              196.0   \n",
       "1                8               1976          1976                0.0   \n",
       "2                5               2001          2002              162.0   \n",
       "3                5               1915          1970                0.0   \n",
       "4                5               2000          2000              350.0   \n",
       "\n",
       "   BsmtFinSF1  BsmtFinSF2  BsmtUnfSF  Total_Basement_Area  First_Floor_Area  \\\n",
       "0       706.0         0.0      150.0                856.0               856   \n",
       "1       978.0         0.0      284.0               1262.0              1262   \n",
       "2       486.0         0.0      434.0                920.0               920   \n",
       "3       216.0         0.0      540.0                756.0               961   \n",
       "4       655.0         0.0      490.0               1145.0              1145   \n",
       "\n",
       "   Second_Floor_Area  LowQualFinSF  Grade_Living_Area  \\\n",
       "0                854             0               1710   \n",
       "1                  0             0               1262   \n",
       "2                866             0               1786   \n",
       "3                756             0               1717   \n",
       "4               1053             0               2198   \n",
       "\n",
       "   Underground_Full_Bathroom  Underground_Half_Bathroom  \\\n",
       "0                        1.0                        0.0   \n",
       "1                        0.0                        1.0   \n",
       "2                        1.0                        0.0   \n",
       "3                        1.0                        0.0   \n",
       "4                        1.0                        0.0   \n",
       "\n",
       "   Full_Bathroom_Above_Grade  Half_Bathroom_Above_Grade  Bedroom_Above_Grade  \\\n",
       "0                          2                          1                    3   \n",
       "1                          2                          0                    3   \n",
       "2                          2                          1                    3   \n",
       "3                          1                          0                    3   \n",
       "4                          2                          1                    4   \n",
       "\n",
       "   Kitchen_Above_Grade  Rooms_Above_Grade  Fireplaces  Garage_Built_Year  \\\n",
       "0                    1                  8           0             2003.0   \n",
       "1                    1                  6           1             1976.0   \n",
       "2                    1                  6           1             2001.0   \n",
       "3                    1                  7           1             1998.0   \n",
       "4                    1                  9           1             2000.0   \n",
       "\n",
       "   Garage_Size  Garage_Area  W_Deck_Area  Open_Lobby_Area  \\\n",
       "0          2.0  1085.793744   163.788080        69.596115   \n",
       "1          2.0   196.316304   198.900074        74.716033   \n",
       "2          2.0   218.068403    26.127533        32.085268   \n",
       "3          3.0   696.996439    46.948018        40.181415   \n",
       "4          3.0   568.859882   -10.626105        20.755323   \n",
       "\n",
       "   Enclosed_Lobby_Area  Three_Season_Lobby_Area  Screen_Lobby_Area  Pool_Area  \\\n",
       "0            20.337934                        0                  0          0   \n",
       "1            15.039392                        0                  0          0   \n",
       "2           -46.232198                        0                  0          0   \n",
       "3            60.921821                        0                  0          0   \n",
       "4            21.788818                        0                  0          0   \n",
       "\n",
       "   Miscellaneous_Value  Month_Sold  Year_Sold  Sale_Price  \n",
       "0                    0           2       2008    208500.0  \n",
       "1                    0           5       2007    181500.0  \n",
       "2                    0           9       2008    223500.0  \n",
       "3                    0           2       2006    140000.0  \n",
       "4                    0          12       2008    250000.0  "
      ]
     },
     "execution_count": 95,
     "metadata": {},
     "output_type": "execute_result"
    }
   ],
   "source": [
    "df_numeric_features.head()"
   ]
  },
  {
   "cell_type": "code",
   "execution_count": 96,
   "metadata": {
    "colab": {
     "base_uri": "https://localhost:8080/",
     "height": 238
    },
    "colab_type": "code",
    "executionInfo": {
     "elapsed": 58774,
     "status": "ok",
     "timestamp": 1591475662982,
     "user": {
      "displayName": "Upal Roy",
      "photoUrl": "https://lh3.googleusercontent.com/a-/AOh14Gh3ZcxNJOImetV4fnumMA01jK279Xfnb3YIYO61fA=s64",
      "userId": "00708235415135331858"
     },
     "user_tz": -330
    },
    "id": "1DVYnptJRgpN",
    "outputId": "912b6b10-ed10-41bd-97e3-844fbf8f251c"
   },
   "outputs": [
    {
     "data": {
      "text/plain": [
       "Index(['Zoning_Class', 'Road_Type', 'Lane_Type', 'Property_Shape',\n",
       "       'Land_Outline', 'Utility_Type', 'Lot_Configuration', 'Property_Slope',\n",
       "       'Neighborhood', 'Condition1', 'Condition2', 'House_Type',\n",
       "       'House_Design', 'Roof_Design', 'Roof_Quality', 'Exterior1st',\n",
       "       'Exterior2nd', 'Brick_Veneer_Type', 'Exterior_Material',\n",
       "       'Exterior_Condition', 'Foundation_Type', 'Basement_Height',\n",
       "       'Basement_Condition', 'Exposure_Level', 'BsmtFinType1', 'BsmtFinType2',\n",
       "       'Heating_Type', 'Heating_Quality', 'Air_Conditioning',\n",
       "       'Electrical_System', 'Kitchen_Quality', 'Functional_Rate',\n",
       "       'Fireplace_Quality', 'Garage', 'Garage_Finish_Year', 'Garage_Quality',\n",
       "       'Garage_Condition', 'Pavedd_Drive', 'Pool_Quality', 'Fence_Quality',\n",
       "       'Miscellaneous_Feature', 'Sale_Type', 'Sale_Condition'],\n",
       "      dtype='object')"
      ]
     },
     "execution_count": 96,
     "metadata": {},
     "output_type": "execute_result"
    }
   ],
   "source": [
    "df_categorical_features = alldata.select_dtypes(include=[np.object])\n",
    "\n",
    "df_categorical_features.columns"
   ]
  },
  {
   "cell_type": "code",
   "execution_count": 97,
   "metadata": {
    "colab": {
     "base_uri": "https://localhost:8080/",
     "height": 224
    },
    "colab_type": "code",
    "executionInfo": {
     "elapsed": 59538,
     "status": "ok",
     "timestamp": 1591475663762,
     "user": {
      "displayName": "Upal Roy",
      "photoUrl": "https://lh3.googleusercontent.com/a-/AOh14Gh3ZcxNJOImetV4fnumMA01jK279Xfnb3YIYO61fA=s64",
      "userId": "00708235415135331858"
     },
     "user_tz": -330
    },
    "id": "STP71cjARgpQ",
    "outputId": "1ac80d99-c1f9-4035-8cab-512fb0e0fcab"
   },
   "outputs": [
    {
     "data": {
      "text/html": [
       "<div>\n",
       "<style scoped>\n",
       "    .dataframe tbody tr th:only-of-type {\n",
       "        vertical-align: middle;\n",
       "    }\n",
       "\n",
       "    .dataframe tbody tr th {\n",
       "        vertical-align: top;\n",
       "    }\n",
       "\n",
       "    .dataframe thead th {\n",
       "        text-align: right;\n",
       "    }\n",
       "</style>\n",
       "<table border=\"1\" class=\"dataframe\">\n",
       "  <thead>\n",
       "    <tr style=\"text-align: right;\">\n",
       "      <th></th>\n",
       "      <th>Zoning_Class</th>\n",
       "      <th>Road_Type</th>\n",
       "      <th>Lane_Type</th>\n",
       "      <th>Property_Shape</th>\n",
       "      <th>Land_Outline</th>\n",
       "      <th>Utility_Type</th>\n",
       "      <th>Lot_Configuration</th>\n",
       "      <th>Property_Slope</th>\n",
       "      <th>Neighborhood</th>\n",
       "      <th>Condition1</th>\n",
       "      <th>Condition2</th>\n",
       "      <th>House_Type</th>\n",
       "      <th>House_Design</th>\n",
       "      <th>Roof_Design</th>\n",
       "      <th>Roof_Quality</th>\n",
       "      <th>Exterior1st</th>\n",
       "      <th>Exterior2nd</th>\n",
       "      <th>Brick_Veneer_Type</th>\n",
       "      <th>Exterior_Material</th>\n",
       "      <th>Exterior_Condition</th>\n",
       "      <th>Foundation_Type</th>\n",
       "      <th>Basement_Height</th>\n",
       "      <th>Basement_Condition</th>\n",
       "      <th>Exposure_Level</th>\n",
       "      <th>BsmtFinType1</th>\n",
       "      <th>BsmtFinType2</th>\n",
       "      <th>Heating_Type</th>\n",
       "      <th>Heating_Quality</th>\n",
       "      <th>Air_Conditioning</th>\n",
       "      <th>Electrical_System</th>\n",
       "      <th>Kitchen_Quality</th>\n",
       "      <th>Functional_Rate</th>\n",
       "      <th>Fireplace_Quality</th>\n",
       "      <th>Garage</th>\n",
       "      <th>Garage_Finish_Year</th>\n",
       "      <th>Garage_Quality</th>\n",
       "      <th>Garage_Condition</th>\n",
       "      <th>Pavedd_Drive</th>\n",
       "      <th>Pool_Quality</th>\n",
       "      <th>Fence_Quality</th>\n",
       "      <th>Miscellaneous_Feature</th>\n",
       "      <th>Sale_Type</th>\n",
       "      <th>Sale_Condition</th>\n",
       "    </tr>\n",
       "  </thead>\n",
       "  <tbody>\n",
       "    <tr>\n",
       "      <th>0</th>\n",
       "      <td>RLD</td>\n",
       "      <td>Paved</td>\n",
       "      <td>None</td>\n",
       "      <td>Reg</td>\n",
       "      <td>Lvl</td>\n",
       "      <td>AllPub</td>\n",
       "      <td>I</td>\n",
       "      <td>GS</td>\n",
       "      <td>CollgCr</td>\n",
       "      <td>Norm</td>\n",
       "      <td>Norm</td>\n",
       "      <td>1Fam</td>\n",
       "      <td>2Story</td>\n",
       "      <td>Gable</td>\n",
       "      <td>SS</td>\n",
       "      <td>VinylSd</td>\n",
       "      <td>VinylSd</td>\n",
       "      <td>BrkFace</td>\n",
       "      <td>Gd</td>\n",
       "      <td>TA</td>\n",
       "      <td>PC</td>\n",
       "      <td>Gd</td>\n",
       "      <td>TA</td>\n",
       "      <td>No</td>\n",
       "      <td>GLQ</td>\n",
       "      <td>Unf</td>\n",
       "      <td>GasA</td>\n",
       "      <td>Ex</td>\n",
       "      <td>Y</td>\n",
       "      <td>SBrkr</td>\n",
       "      <td>Gd</td>\n",
       "      <td>TF</td>\n",
       "      <td>None</td>\n",
       "      <td>Attchd</td>\n",
       "      <td>RFn</td>\n",
       "      <td>TA</td>\n",
       "      <td>TA</td>\n",
       "      <td>Y</td>\n",
       "      <td>None</td>\n",
       "      <td>None</td>\n",
       "      <td>None</td>\n",
       "      <td>WD</td>\n",
       "      <td>Normal</td>\n",
       "    </tr>\n",
       "    <tr>\n",
       "      <th>1</th>\n",
       "      <td>RLD</td>\n",
       "      <td>Paved</td>\n",
       "      <td>None</td>\n",
       "      <td>Reg</td>\n",
       "      <td>Lvl</td>\n",
       "      <td>AllPub</td>\n",
       "      <td>FR2P</td>\n",
       "      <td>GS</td>\n",
       "      <td>Veenker</td>\n",
       "      <td>Feedr</td>\n",
       "      <td>Norm</td>\n",
       "      <td>1Fam</td>\n",
       "      <td>1Story</td>\n",
       "      <td>Gable</td>\n",
       "      <td>SS</td>\n",
       "      <td>MetalSd</td>\n",
       "      <td>MetalSd</td>\n",
       "      <td>None</td>\n",
       "      <td>TA</td>\n",
       "      <td>TA</td>\n",
       "      <td>CB</td>\n",
       "      <td>Gd</td>\n",
       "      <td>TA</td>\n",
       "      <td>Gd</td>\n",
       "      <td>ALQ</td>\n",
       "      <td>Unf</td>\n",
       "      <td>GasA</td>\n",
       "      <td>Ex</td>\n",
       "      <td>Y</td>\n",
       "      <td>SBrkr</td>\n",
       "      <td>TA</td>\n",
       "      <td>TF</td>\n",
       "      <td>TA</td>\n",
       "      <td>Attchd</td>\n",
       "      <td>RFn</td>\n",
       "      <td>TA</td>\n",
       "      <td>TA</td>\n",
       "      <td>Y</td>\n",
       "      <td>None</td>\n",
       "      <td>None</td>\n",
       "      <td>None</td>\n",
       "      <td>WD</td>\n",
       "      <td>Normal</td>\n",
       "    </tr>\n",
       "    <tr>\n",
       "      <th>2</th>\n",
       "      <td>RLD</td>\n",
       "      <td>Paved</td>\n",
       "      <td>None</td>\n",
       "      <td>IR1</td>\n",
       "      <td>Lvl</td>\n",
       "      <td>AllPub</td>\n",
       "      <td>I</td>\n",
       "      <td>GS</td>\n",
       "      <td>CollgCr</td>\n",
       "      <td>Norm</td>\n",
       "      <td>Norm</td>\n",
       "      <td>1Fam</td>\n",
       "      <td>2Story</td>\n",
       "      <td>Gable</td>\n",
       "      <td>SS</td>\n",
       "      <td>VinylSd</td>\n",
       "      <td>VinylSd</td>\n",
       "      <td>BrkFace</td>\n",
       "      <td>Gd</td>\n",
       "      <td>TA</td>\n",
       "      <td>PC</td>\n",
       "      <td>Gd</td>\n",
       "      <td>TA</td>\n",
       "      <td>Mn</td>\n",
       "      <td>GLQ</td>\n",
       "      <td>Unf</td>\n",
       "      <td>GasA</td>\n",
       "      <td>Ex</td>\n",
       "      <td>Y</td>\n",
       "      <td>SBrkr</td>\n",
       "      <td>Gd</td>\n",
       "      <td>TF</td>\n",
       "      <td>TA</td>\n",
       "      <td>Attchd</td>\n",
       "      <td>RFn</td>\n",
       "      <td>TA</td>\n",
       "      <td>TA</td>\n",
       "      <td>Y</td>\n",
       "      <td>None</td>\n",
       "      <td>None</td>\n",
       "      <td>None</td>\n",
       "      <td>WD</td>\n",
       "      <td>Normal</td>\n",
       "    </tr>\n",
       "    <tr>\n",
       "      <th>3</th>\n",
       "      <td>RLD</td>\n",
       "      <td>Paved</td>\n",
       "      <td>None</td>\n",
       "      <td>IR1</td>\n",
       "      <td>Lvl</td>\n",
       "      <td>AllPub</td>\n",
       "      <td>C</td>\n",
       "      <td>GS</td>\n",
       "      <td>Crawfor</td>\n",
       "      <td>Norm</td>\n",
       "      <td>Norm</td>\n",
       "      <td>1Fam</td>\n",
       "      <td>2Story</td>\n",
       "      <td>Gable</td>\n",
       "      <td>SS</td>\n",
       "      <td>Wd Sdng</td>\n",
       "      <td>Wd Shng</td>\n",
       "      <td>None</td>\n",
       "      <td>TA</td>\n",
       "      <td>TA</td>\n",
       "      <td>BT</td>\n",
       "      <td>TA</td>\n",
       "      <td>Gd</td>\n",
       "      <td>No</td>\n",
       "      <td>ALQ</td>\n",
       "      <td>Unf</td>\n",
       "      <td>GasA</td>\n",
       "      <td>Gd</td>\n",
       "      <td>Y</td>\n",
       "      <td>SBrkr</td>\n",
       "      <td>Gd</td>\n",
       "      <td>TF</td>\n",
       "      <td>Gd</td>\n",
       "      <td>Detchd</td>\n",
       "      <td>Unf</td>\n",
       "      <td>TA</td>\n",
       "      <td>TA</td>\n",
       "      <td>Y</td>\n",
       "      <td>None</td>\n",
       "      <td>None</td>\n",
       "      <td>None</td>\n",
       "      <td>WD</td>\n",
       "      <td>Abnorml</td>\n",
       "    </tr>\n",
       "    <tr>\n",
       "      <th>4</th>\n",
       "      <td>RLD</td>\n",
       "      <td>Paved</td>\n",
       "      <td>None</td>\n",
       "      <td>IR1</td>\n",
       "      <td>Lvl</td>\n",
       "      <td>AllPub</td>\n",
       "      <td>FR2P</td>\n",
       "      <td>GS</td>\n",
       "      <td>NoRidge</td>\n",
       "      <td>Norm</td>\n",
       "      <td>Norm</td>\n",
       "      <td>1Fam</td>\n",
       "      <td>2Story</td>\n",
       "      <td>Gable</td>\n",
       "      <td>SS</td>\n",
       "      <td>VinylSd</td>\n",
       "      <td>VinylSd</td>\n",
       "      <td>BrkFace</td>\n",
       "      <td>Gd</td>\n",
       "      <td>TA</td>\n",
       "      <td>PC</td>\n",
       "      <td>Gd</td>\n",
       "      <td>TA</td>\n",
       "      <td>Av</td>\n",
       "      <td>GLQ</td>\n",
       "      <td>Unf</td>\n",
       "      <td>GasA</td>\n",
       "      <td>Ex</td>\n",
       "      <td>Y</td>\n",
       "      <td>SBrkr</td>\n",
       "      <td>Gd</td>\n",
       "      <td>TF</td>\n",
       "      <td>TA</td>\n",
       "      <td>Attchd</td>\n",
       "      <td>RFn</td>\n",
       "      <td>TA</td>\n",
       "      <td>TA</td>\n",
       "      <td>Y</td>\n",
       "      <td>None</td>\n",
       "      <td>None</td>\n",
       "      <td>None</td>\n",
       "      <td>WD</td>\n",
       "      <td>Normal</td>\n",
       "    </tr>\n",
       "  </tbody>\n",
       "</table>\n",
       "</div>"
      ],
      "text/plain": [
       "  Zoning_Class Road_Type Lane_Type Property_Shape Land_Outline Utility_Type  \\\n",
       "0          RLD     Paved      None            Reg          Lvl       AllPub   \n",
       "1          RLD     Paved      None            Reg          Lvl       AllPub   \n",
       "2          RLD     Paved      None            IR1          Lvl       AllPub   \n",
       "3          RLD     Paved      None            IR1          Lvl       AllPub   \n",
       "4          RLD     Paved      None            IR1          Lvl       AllPub   \n",
       "\n",
       "  Lot_Configuration Property_Slope Neighborhood Condition1 Condition2  \\\n",
       "0                 I             GS      CollgCr       Norm       Norm   \n",
       "1              FR2P             GS      Veenker      Feedr       Norm   \n",
       "2                 I             GS      CollgCr       Norm       Norm   \n",
       "3                 C             GS      Crawfor       Norm       Norm   \n",
       "4              FR2P             GS      NoRidge       Norm       Norm   \n",
       "\n",
       "  House_Type House_Design Roof_Design Roof_Quality Exterior1st Exterior2nd  \\\n",
       "0       1Fam       2Story       Gable           SS     VinylSd     VinylSd   \n",
       "1       1Fam       1Story       Gable           SS     MetalSd     MetalSd   \n",
       "2       1Fam       2Story       Gable           SS     VinylSd     VinylSd   \n",
       "3       1Fam       2Story       Gable           SS     Wd Sdng     Wd Shng   \n",
       "4       1Fam       2Story       Gable           SS     VinylSd     VinylSd   \n",
       "\n",
       "  Brick_Veneer_Type Exterior_Material Exterior_Condition Foundation_Type  \\\n",
       "0           BrkFace                Gd                 TA              PC   \n",
       "1              None                TA                 TA              CB   \n",
       "2           BrkFace                Gd                 TA              PC   \n",
       "3              None                TA                 TA              BT   \n",
       "4           BrkFace                Gd                 TA              PC   \n",
       "\n",
       "  Basement_Height Basement_Condition Exposure_Level BsmtFinType1 BsmtFinType2  \\\n",
       "0              Gd                 TA             No          GLQ          Unf   \n",
       "1              Gd                 TA             Gd          ALQ          Unf   \n",
       "2              Gd                 TA             Mn          GLQ          Unf   \n",
       "3              TA                 Gd             No          ALQ          Unf   \n",
       "4              Gd                 TA             Av          GLQ          Unf   \n",
       "\n",
       "  Heating_Type Heating_Quality Air_Conditioning Electrical_System  \\\n",
       "0         GasA              Ex                Y             SBrkr   \n",
       "1         GasA              Ex                Y             SBrkr   \n",
       "2         GasA              Ex                Y             SBrkr   \n",
       "3         GasA              Gd                Y             SBrkr   \n",
       "4         GasA              Ex                Y             SBrkr   \n",
       "\n",
       "  Kitchen_Quality Functional_Rate Fireplace_Quality  Garage  \\\n",
       "0              Gd              TF              None  Attchd   \n",
       "1              TA              TF                TA  Attchd   \n",
       "2              Gd              TF                TA  Attchd   \n",
       "3              Gd              TF                Gd  Detchd   \n",
       "4              Gd              TF                TA  Attchd   \n",
       "\n",
       "  Garage_Finish_Year Garage_Quality Garage_Condition Pavedd_Drive  \\\n",
       "0                RFn             TA               TA            Y   \n",
       "1                RFn             TA               TA            Y   \n",
       "2                RFn             TA               TA            Y   \n",
       "3                Unf             TA               TA            Y   \n",
       "4                RFn             TA               TA            Y   \n",
       "\n",
       "  Pool_Quality Fence_Quality Miscellaneous_Feature Sale_Type Sale_Condition  \n",
       "0         None          None                  None        WD         Normal  \n",
       "1         None          None                  None        WD         Normal  \n",
       "2         None          None                  None        WD         Normal  \n",
       "3         None          None                  None        WD        Abnorml  \n",
       "4         None          None                  None        WD         Normal  "
      ]
     },
     "execution_count": 97,
     "metadata": {},
     "output_type": "execute_result"
    }
   ],
   "source": [
    "df_categorical_features.head()"
   ]
  },
  {
   "cell_type": "markdown",
   "metadata": {
    "colab_type": "text",
    "id": "ULGtoJUVRgpT"
   },
   "source": [
    "### Scale our numeric variables using min-max normalization"
   ]
  },
  {
   "cell_type": "code",
   "execution_count": 98,
   "metadata": {
    "colab": {},
    "colab_type": "code",
    "id": "VmrBlNoqRgpU"
   },
   "outputs": [],
   "source": [
    "# apply the min-max scaling to our numeric variables\n",
    "from sklearn.preprocessing import MinMaxScaler\n",
    "min_max = MinMaxScaler()\n",
    "\n",
    "# Scaling down the numeric variables\n",
    "df_housingdata_numcols = pd.DataFrame(min_max.fit_transform(df_numeric_features.iloc[:,0:36]), columns = df_numeric_features.iloc[:,0:36].columns.tolist())"
   ]
  },
  {
   "cell_type": "code",
   "execution_count": 99,
   "metadata": {
    "colab": {
     "base_uri": "https://localhost:8080/",
     "height": 224
    },
    "colab_type": "code",
    "executionInfo": {
     "elapsed": 59520,
     "status": "ok",
     "timestamp": 1591475663766,
     "user": {
      "displayName": "Upal Roy",
      "photoUrl": "https://lh3.googleusercontent.com/a-/AOh14Gh3ZcxNJOImetV4fnumMA01jK279Xfnb3YIYO61fA=s64",
      "userId": "00708235415135331858"
     },
     "user_tz": -330
    },
    "id": "RYuHiiZSRgpY",
    "outputId": "b736a114-2ceb-410b-e3f0-96bfb2836cff"
   },
   "outputs": [
    {
     "data": {
      "text/html": [
       "<div>\n",
       "<style scoped>\n",
       "    .dataframe tbody tr th:only-of-type {\n",
       "        vertical-align: middle;\n",
       "    }\n",
       "\n",
       "    .dataframe tbody tr th {\n",
       "        vertical-align: top;\n",
       "    }\n",
       "\n",
       "    .dataframe thead th {\n",
       "        text-align: right;\n",
       "    }\n",
       "</style>\n",
       "<table border=\"1\" class=\"dataframe\">\n",
       "  <thead>\n",
       "    <tr style=\"text-align: right;\">\n",
       "      <th></th>\n",
       "      <th>index</th>\n",
       "      <th>Building_Class</th>\n",
       "      <th>Lot_Extent</th>\n",
       "      <th>Lot_Size</th>\n",
       "      <th>Overall_Material</th>\n",
       "      <th>House_Condition</th>\n",
       "      <th>Construction_Year</th>\n",
       "      <th>Remodel_Year</th>\n",
       "      <th>Brick_Veneer_Area</th>\n",
       "      <th>BsmtFinSF1</th>\n",
       "      <th>BsmtFinSF2</th>\n",
       "      <th>BsmtUnfSF</th>\n",
       "      <th>Total_Basement_Area</th>\n",
       "      <th>First_Floor_Area</th>\n",
       "      <th>Second_Floor_Area</th>\n",
       "      <th>LowQualFinSF</th>\n",
       "      <th>Grade_Living_Area</th>\n",
       "      <th>Underground_Full_Bathroom</th>\n",
       "      <th>Underground_Half_Bathroom</th>\n",
       "      <th>Full_Bathroom_Above_Grade</th>\n",
       "      <th>Half_Bathroom_Above_Grade</th>\n",
       "      <th>Bedroom_Above_Grade</th>\n",
       "      <th>Kitchen_Above_Grade</th>\n",
       "      <th>Rooms_Above_Grade</th>\n",
       "      <th>Fireplaces</th>\n",
       "      <th>Garage_Built_Year</th>\n",
       "      <th>Garage_Size</th>\n",
       "      <th>Garage_Area</th>\n",
       "      <th>W_Deck_Area</th>\n",
       "      <th>Open_Lobby_Area</th>\n",
       "      <th>Enclosed_Lobby_Area</th>\n",
       "      <th>Three_Season_Lobby_Area</th>\n",
       "      <th>Screen_Lobby_Area</th>\n",
       "      <th>Pool_Area</th>\n",
       "      <th>Miscellaneous_Value</th>\n",
       "      <th>Month_Sold</th>\n",
       "    </tr>\n",
       "  </thead>\n",
       "  <tbody>\n",
       "    <tr>\n",
       "      <th>0</th>\n",
       "      <td>0.000000</td>\n",
       "      <td>0.235294</td>\n",
       "      <td>0.150685</td>\n",
       "      <td>0.057925</td>\n",
       "      <td>0.666667</td>\n",
       "      <td>0.500</td>\n",
       "      <td>0.949275</td>\n",
       "      <td>0.883333</td>\n",
       "      <td>0.12250</td>\n",
       "      <td>0.125089</td>\n",
       "      <td>0.0</td>\n",
       "      <td>0.064212</td>\n",
       "      <td>0.140098</td>\n",
       "      <td>0.109641</td>\n",
       "      <td>0.413559</td>\n",
       "      <td>0.0</td>\n",
       "      <td>0.259231</td>\n",
       "      <td>0.333333</td>\n",
       "      <td>0.0</td>\n",
       "      <td>0.50</td>\n",
       "      <td>0.5</td>\n",
       "      <td>0.375</td>\n",
       "      <td>0.333333</td>\n",
       "      <td>0.461538</td>\n",
       "      <td>0.00</td>\n",
       "      <td>0.346154</td>\n",
       "      <td>0.4</td>\n",
       "      <td>0.751321</td>\n",
       "      <td>0.284829</td>\n",
       "      <td>0.276324</td>\n",
       "      <td>0.157328</td>\n",
       "      <td>0.0</td>\n",
       "      <td>0.0</td>\n",
       "      <td>0.0</td>\n",
       "      <td>0.0</td>\n",
       "      <td>0.090909</td>\n",
       "    </tr>\n",
       "    <tr>\n",
       "      <th>1</th>\n",
       "      <td>0.000686</td>\n",
       "      <td>0.000000</td>\n",
       "      <td>0.202055</td>\n",
       "      <td>0.063164</td>\n",
       "      <td>0.555556</td>\n",
       "      <td>0.875</td>\n",
       "      <td>0.753623</td>\n",
       "      <td>0.433333</td>\n",
       "      <td>0.00000</td>\n",
       "      <td>0.173281</td>\n",
       "      <td>0.0</td>\n",
       "      <td>0.121575</td>\n",
       "      <td>0.206547</td>\n",
       "      <td>0.194917</td>\n",
       "      <td>0.000000</td>\n",
       "      <td>0.0</td>\n",
       "      <td>0.174830</td>\n",
       "      <td>0.000000</td>\n",
       "      <td>0.5</td>\n",
       "      <td>0.50</td>\n",
       "      <td>0.0</td>\n",
       "      <td>0.375</td>\n",
       "      <td>0.333333</td>\n",
       "      <td>0.307692</td>\n",
       "      <td>0.25</td>\n",
       "      <td>0.259615</td>\n",
       "      <td>0.4</td>\n",
       "      <td>0.201368</td>\n",
       "      <td>0.304755</td>\n",
       "      <td>0.281834</td>\n",
       "      <td>0.152826</td>\n",
       "      <td>0.0</td>\n",
       "      <td>0.0</td>\n",
       "      <td>0.0</td>\n",
       "      <td>0.0</td>\n",
       "      <td>0.363636</td>\n",
       "    </tr>\n",
       "    <tr>\n",
       "      <th>2</th>\n",
       "      <td>0.001372</td>\n",
       "      <td>0.235294</td>\n",
       "      <td>0.160959</td>\n",
       "      <td>0.070681</td>\n",
       "      <td>0.666667</td>\n",
       "      <td>0.500</td>\n",
       "      <td>0.934783</td>\n",
       "      <td>0.866667</td>\n",
       "      <td>0.10125</td>\n",
       "      <td>0.086109</td>\n",
       "      <td>0.0</td>\n",
       "      <td>0.185788</td>\n",
       "      <td>0.150573</td>\n",
       "      <td>0.123083</td>\n",
       "      <td>0.419370</td>\n",
       "      <td>0.0</td>\n",
       "      <td>0.273549</td>\n",
       "      <td>0.333333</td>\n",
       "      <td>0.0</td>\n",
       "      <td>0.50</td>\n",
       "      <td>0.5</td>\n",
       "      <td>0.375</td>\n",
       "      <td>0.333333</td>\n",
       "      <td>0.307692</td>\n",
       "      <td>0.25</td>\n",
       "      <td>0.339744</td>\n",
       "      <td>0.4</td>\n",
       "      <td>0.214817</td>\n",
       "      <td>0.206706</td>\n",
       "      <td>0.235952</td>\n",
       "      <td>0.100760</td>\n",
       "      <td>0.0</td>\n",
       "      <td>0.0</td>\n",
       "      <td>0.0</td>\n",
       "      <td>0.0</td>\n",
       "      <td>0.727273</td>\n",
       "    </tr>\n",
       "    <tr>\n",
       "      <th>3</th>\n",
       "      <td>0.002058</td>\n",
       "      <td>0.294118</td>\n",
       "      <td>0.133562</td>\n",
       "      <td>0.062936</td>\n",
       "      <td>0.666667</td>\n",
       "      <td>0.500</td>\n",
       "      <td>0.311594</td>\n",
       "      <td>0.333333</td>\n",
       "      <td>0.00000</td>\n",
       "      <td>0.038271</td>\n",
       "      <td>0.0</td>\n",
       "      <td>0.231164</td>\n",
       "      <td>0.123732</td>\n",
       "      <td>0.131695</td>\n",
       "      <td>0.366102</td>\n",
       "      <td>0.0</td>\n",
       "      <td>0.260550</td>\n",
       "      <td>0.333333</td>\n",
       "      <td>0.0</td>\n",
       "      <td>0.25</td>\n",
       "      <td>0.0</td>\n",
       "      <td>0.375</td>\n",
       "      <td>0.333333</td>\n",
       "      <td>0.384615</td>\n",
       "      <td>0.25</td>\n",
       "      <td>0.330128</td>\n",
       "      <td>0.6</td>\n",
       "      <td>0.510932</td>\n",
       "      <td>0.218522</td>\n",
       "      <td>0.244666</td>\n",
       "      <td>0.191815</td>\n",
       "      <td>0.0</td>\n",
       "      <td>0.0</td>\n",
       "      <td>0.0</td>\n",
       "      <td>0.0</td>\n",
       "      <td>0.090909</td>\n",
       "    </tr>\n",
       "    <tr>\n",
       "      <th>4</th>\n",
       "      <td>0.002743</td>\n",
       "      <td>0.235294</td>\n",
       "      <td>0.215753</td>\n",
       "      <td>0.084393</td>\n",
       "      <td>0.777778</td>\n",
       "      <td>0.500</td>\n",
       "      <td>0.927536</td>\n",
       "      <td>0.833333</td>\n",
       "      <td>0.21875</td>\n",
       "      <td>0.116052</td>\n",
       "      <td>0.0</td>\n",
       "      <td>0.209760</td>\n",
       "      <td>0.187398</td>\n",
       "      <td>0.170342</td>\n",
       "      <td>0.509927</td>\n",
       "      <td>0.0</td>\n",
       "      <td>0.351168</td>\n",
       "      <td>0.333333</td>\n",
       "      <td>0.0</td>\n",
       "      <td>0.50</td>\n",
       "      <td>0.5</td>\n",
       "      <td>0.500</td>\n",
       "      <td>0.333333</td>\n",
       "      <td>0.538462</td>\n",
       "      <td>0.25</td>\n",
       "      <td>0.336538</td>\n",
       "      <td>0.6</td>\n",
       "      <td>0.431707</td>\n",
       "      <td>0.185849</td>\n",
       "      <td>0.223759</td>\n",
       "      <td>0.158561</td>\n",
       "      <td>0.0</td>\n",
       "      <td>0.0</td>\n",
       "      <td>0.0</td>\n",
       "      <td>0.0</td>\n",
       "      <td>1.000000</td>\n",
       "    </tr>\n",
       "  </tbody>\n",
       "</table>\n",
       "</div>"
      ],
      "text/plain": [
       "      index  Building_Class  Lot_Extent  Lot_Size  Overall_Material  \\\n",
       "0  0.000000        0.235294    0.150685  0.057925          0.666667   \n",
       "1  0.000686        0.000000    0.202055  0.063164          0.555556   \n",
       "2  0.001372        0.235294    0.160959  0.070681          0.666667   \n",
       "3  0.002058        0.294118    0.133562  0.062936          0.666667   \n",
       "4  0.002743        0.235294    0.215753  0.084393          0.777778   \n",
       "\n",
       "   House_Condition  Construction_Year  Remodel_Year  Brick_Veneer_Area  \\\n",
       "0            0.500           0.949275      0.883333            0.12250   \n",
       "1            0.875           0.753623      0.433333            0.00000   \n",
       "2            0.500           0.934783      0.866667            0.10125   \n",
       "3            0.500           0.311594      0.333333            0.00000   \n",
       "4            0.500           0.927536      0.833333            0.21875   \n",
       "\n",
       "   BsmtFinSF1  BsmtFinSF2  BsmtUnfSF  Total_Basement_Area  First_Floor_Area  \\\n",
       "0    0.125089         0.0   0.064212             0.140098          0.109641   \n",
       "1    0.173281         0.0   0.121575             0.206547          0.194917   \n",
       "2    0.086109         0.0   0.185788             0.150573          0.123083   \n",
       "3    0.038271         0.0   0.231164             0.123732          0.131695   \n",
       "4    0.116052         0.0   0.209760             0.187398          0.170342   \n",
       "\n",
       "   Second_Floor_Area  LowQualFinSF  Grade_Living_Area  \\\n",
       "0           0.413559           0.0           0.259231   \n",
       "1           0.000000           0.0           0.174830   \n",
       "2           0.419370           0.0           0.273549   \n",
       "3           0.366102           0.0           0.260550   \n",
       "4           0.509927           0.0           0.351168   \n",
       "\n",
       "   Underground_Full_Bathroom  Underground_Half_Bathroom  \\\n",
       "0                   0.333333                        0.0   \n",
       "1                   0.000000                        0.5   \n",
       "2                   0.333333                        0.0   \n",
       "3                   0.333333                        0.0   \n",
       "4                   0.333333                        0.0   \n",
       "\n",
       "   Full_Bathroom_Above_Grade  Half_Bathroom_Above_Grade  Bedroom_Above_Grade  \\\n",
       "0                       0.50                        0.5                0.375   \n",
       "1                       0.50                        0.0                0.375   \n",
       "2                       0.50                        0.5                0.375   \n",
       "3                       0.25                        0.0                0.375   \n",
       "4                       0.50                        0.5                0.500   \n",
       "\n",
       "   Kitchen_Above_Grade  Rooms_Above_Grade  Fireplaces  Garage_Built_Year  \\\n",
       "0             0.333333           0.461538        0.00           0.346154   \n",
       "1             0.333333           0.307692        0.25           0.259615   \n",
       "2             0.333333           0.307692        0.25           0.339744   \n",
       "3             0.333333           0.384615        0.25           0.330128   \n",
       "4             0.333333           0.538462        0.25           0.336538   \n",
       "\n",
       "   Garage_Size  Garage_Area  W_Deck_Area  Open_Lobby_Area  \\\n",
       "0          0.4     0.751321     0.284829         0.276324   \n",
       "1          0.4     0.201368     0.304755         0.281834   \n",
       "2          0.4     0.214817     0.206706         0.235952   \n",
       "3          0.6     0.510932     0.218522         0.244666   \n",
       "4          0.6     0.431707     0.185849         0.223759   \n",
       "\n",
       "   Enclosed_Lobby_Area  Three_Season_Lobby_Area  Screen_Lobby_Area  Pool_Area  \\\n",
       "0             0.157328                      0.0                0.0        0.0   \n",
       "1             0.152826                      0.0                0.0        0.0   \n",
       "2             0.100760                      0.0                0.0        0.0   \n",
       "3             0.191815                      0.0                0.0        0.0   \n",
       "4             0.158561                      0.0                0.0        0.0   \n",
       "\n",
       "   Miscellaneous_Value  Month_Sold  \n",
       "0                  0.0    0.090909  \n",
       "1                  0.0    0.363636  \n",
       "2                  0.0    0.727273  \n",
       "3                  0.0    0.090909  \n",
       "4                  0.0    1.000000  "
      ]
     },
     "execution_count": 99,
     "metadata": {},
     "output_type": "execute_result"
    }
   ],
   "source": [
    "df_housingdata_numcols.head()"
   ]
  },
  {
   "cell_type": "markdown",
   "metadata": {
    "colab_type": "text",
    "id": "HGESce9FRgpa"
   },
   "source": [
    "### Perform one-hot encoding on categorical variables"
   ]
  },
  {
   "cell_type": "code",
   "execution_count": 100,
   "metadata": {
    "colab": {},
    "colab_type": "code",
    "id": "nh8p_GIpRgpb"
   },
   "outputs": [],
   "source": [
    "for col in  df_categorical_features.columns.values:\n",
    "    one_hot_encoded_variables = pd.get_dummies(df_categorical_features[col],prefix=col)\n",
    "    df_categorical_features = pd.concat([df_categorical_features,one_hot_encoded_variables],axis=1)\n",
    "    df_categorical_features.drop([col],axis=1, inplace=True)"
   ]
  },
  {
   "cell_type": "markdown",
   "metadata": {
    "colab_type": "text",
    "id": "NT9y5Xt8Rgpd"
   },
   "source": [
    "### Concatenate the numeric and encoded variables to the dataframe"
   ]
  },
  {
   "cell_type": "code",
   "execution_count": 101,
   "metadata": {
    "colab": {
     "base_uri": "https://localhost:8080/",
     "height": 221
    },
    "colab_type": "code",
    "executionInfo": {
     "elapsed": 59498,
     "status": "ok",
     "timestamp": 1591475663767,
     "user": {
      "displayName": "Upal Roy",
      "photoUrl": "https://lh3.googleusercontent.com/a-/AOh14Gh3ZcxNJOImetV4fnumMA01jK279Xfnb3YIYO61fA=s64",
      "userId": "00708235415135331858"
     },
     "user_tz": -330
    },
    "id": "szCnismZRgpd",
    "outputId": "91fb6812-f3cd-436d-ea4a-ca5cfb5f4e14"
   },
   "outputs": [
    {
     "data": {
      "text/plain": [
       "Zoning_Class_Commer      uint8\n",
       "Zoning_Class_FVR         uint8\n",
       "Zoning_Class_None        uint8\n",
       "Zoning_Class_RHD         uint8\n",
       "Zoning_Class_RLD         uint8\n",
       "                        ...   \n",
       "Pool_Area                int64\n",
       "Miscellaneous_Value      int64\n",
       "Month_Sold               int64\n",
       "Year_Sold                int64\n",
       "Sale_Price             float64\n",
       "Length: 321, dtype: object"
      ]
     },
     "execution_count": 101,
     "metadata": {},
     "output_type": "execute_result"
    }
   ],
   "source": [
    "df_housedata = pd.concat([df_categorical_features,df_numeric_features], axis=1)\n",
    "df_housedata.head()\n",
    "df_housedata.columns\n",
    "df_housedata.dtypes"
   ]
  },
  {
   "cell_type": "markdown",
   "metadata": {
    "colab_type": "text",
    "id": "upGVBXlaRgpg"
   },
   "source": [
    "### Create training and testing datasets using the train_test_split"
   ]
  },
  {
   "cell_type": "code",
   "execution_count": 102,
   "metadata": {
    "colab": {},
    "colab_type": "code",
    "id": "MeL98tKLRgpg"
   },
   "outputs": [],
   "source": [
    "from sklearn.model_selection import train_test_split"
   ]
  },
  {
   "cell_type": "code",
   "execution_count": 103,
   "metadata": {
    "colab": {
     "base_uri": "https://localhost:8080/",
     "height": 221
    },
    "colab_type": "code",
    "executionInfo": {
     "elapsed": 59475,
     "status": "ok",
     "timestamp": 1591475663769,
     "user": {
      "displayName": "Upal Roy",
      "photoUrl": "https://lh3.googleusercontent.com/a-/AOh14Gh3ZcxNJOImetV4fnumMA01jK279Xfnb3YIYO61fA=s64",
      "userId": "00708235415135331858"
     },
     "user_tz": -330
    },
    "id": "b-VpwaXeUwtM",
    "outputId": "799bbdf7-379d-49f4-823a-f132a660cb15"
   },
   "outputs": [
    {
     "data": {
      "text/plain": [
       "<bound method NDFrame.head of 0       208500.0\n",
       "1       181500.0\n",
       "2       223500.0\n",
       "3       140000.0\n",
       "4       250000.0\n",
       "          ...   \n",
       "2913    163000.0\n",
       "2914    163000.0\n",
       "2915    163000.0\n",
       "2916    163000.0\n",
       "2917    163000.0\n",
       "Name: Sale_Price, Length: 2918, dtype: float64>"
      ]
     },
     "execution_count": 103,
     "metadata": {},
     "output_type": "execute_result"
    }
   ],
   "source": [
    "# create feature and response varibles\n",
    "X=df_housedata.drop(labels='Sale_Price',axis=1)\n",
    "Y = df_housedata ['Sale_Price']\n",
    "X.dtypes\n",
    "Y.head"
   ]
  },
  {
   "cell_type": "code",
   "execution_count": 116,
   "metadata": {
    "colab": {
     "base_uri": "https://localhost:8080/",
     "height": 34
    },
    "colab_type": "code",
    "executionInfo": {
     "elapsed": 59458,
     "status": "ok",
     "timestamp": 1591475663769,
     "user": {
      "displayName": "Upal Roy",
      "photoUrl": "https://lh3.googleusercontent.com/a-/AOh14Gh3ZcxNJOImetV4fnumMA01jK279Xfnb3YIYO61fA=s64",
      "userId": "00708235415135331858"
     },
     "user_tz": -330
    },
    "id": "Y7xPt2SOdSrh",
    "outputId": "945bc925-29bd-4596-fd05-67da6a904e3a"
   },
   "outputs": [
    {
     "name": "stdout",
     "output_type": "stream",
     "text": [
      "(2042, 320) (876, 320) (2042,) (876,)\n"
     ]
    }
   ],
   "source": [
    "x_train, x_test, y_train, y_test = train_test_split(X, Y, test_size = 0.3)\n",
    "print(x_train.shape, x_test.shape, y_train.shape, y_test.shape)"
   ]
  },
  {
   "cell_type": "markdown",
   "metadata": {
    "colab_type": "text",
    "id": "l9--qrMLRgpk"
   },
   "source": [
    "### Use SGDRegressor() to build a linear model"
   ]
  },
  {
   "cell_type": "code",
   "execution_count": 117,
   "metadata": {
    "colab": {
     "base_uri": "https://localhost:8080/",
     "height": 34
    },
    "colab_type": "code",
    "executionInfo": {
     "elapsed": 59451,
     "status": "ok",
     "timestamp": 1591475663773,
     "user": {
      "displayName": "Upal Roy",
      "photoUrl": "https://lh3.googleusercontent.com/a-/AOh14Gh3ZcxNJOImetV4fnumMA01jK279Xfnb3YIYO61fA=s64",
      "userId": "00708235415135331858"
     },
     "user_tz": -330
    },
    "id": "fJB8l9-yRgpk",
    "outputId": "21775320-0b7c-4389-f8f1-01921676c24a"
   },
   "outputs": [
    {
     "name": "stdout",
     "output_type": "stream",
     "text": [
      "-1.3922746252538566e+24\n"
     ]
    }
   ],
   "source": [
    "import numpy as np\n",
    "from sklearn.linear_model import SGDRegressor\n",
    "lin_model = SGDRegressor()\n",
    "# we fit our model with train data\n",
    "lin_model.fit(x_train, y_train)\n",
    "# we use predict() to predict our values\n",
    "lin_model_predictions = lin_model.predict(x_test)\n",
    "# we check the coefficient of determination with score()\n",
    "print(lin_model.score(x_test,y_test))"
   ]
  },
  {
   "cell_type": "markdown",
   "metadata": {
    "colab_type": "text",
    "id": "Qvbj-765Rgpm"
   },
   "source": [
    "coefficient of determination tells about the goodness of fit of a model"
   ]
  },
  {
   "cell_type": "markdown",
   "metadata": {
    "colab_type": "text",
    "id": "6L2rwZmhRgpn"
   },
   "source": [
    "### Mean Square Error"
   ]
  },
  {
   "cell_type": "code",
   "execution_count": 118,
   "metadata": {
    "colab": {
     "base_uri": "https://localhost:8080/",
     "height": 34
    },
    "colab_type": "code",
    "executionInfo": {
     "elapsed": 59440,
     "status": "ok",
     "timestamp": 1591475663774,
     "user": {
      "displayName": "Upal Roy",
      "photoUrl": "https://lh3.googleusercontent.com/a-/AOh14Gh3ZcxNJOImetV4fnumMA01jK279Xfnb3YIYO61fA=s64",
      "userId": "00708235415135331858"
     },
     "user_tz": -330
    },
    "id": "uoJjCgLERgpn",
    "outputId": "8f6ed555-ea4f-43b2-a726-888ffc06385c"
   },
   "outputs": [
    {
     "name": "stdout",
     "output_type": "stream",
     "text": [
      "6.8179740721481176e+16\n"
     ]
    }
   ],
   "source": [
    "# we check the root mean square error (RMSE)\n",
    "from sklearn.metrics import mean_squared_error\n",
    "mse = mean_squared_error(y_test, lin_model_predictions)\n",
    "rmse = np.sqrt(mse)\n",
    "print(rmse)"
   ]
  },
  {
   "cell_type": "code",
   "execution_count": 119,
   "metadata": {},
   "outputs": [
    {
     "name": "stdout",
     "output_type": "stream",
     "text": [
      "Mean Squared Error: 4.6484770448483985e+33\n",
      "Root Mean Squared Error: 6.8179740721481176e+16\n",
      "Mean Absolute Error: 4.791096942454324e+16\n"
     ]
    }
   ],
   "source": [
    "from sklearn import metrics\n",
    "\n",
    "print('Mean Squared Error:', metrics.mean_squared_error(y_test, lin_model_predictions))  \n",
    "print('Root Mean Squared Error:', np.sqrt(metrics.mean_squared_error(y_test, lin_model_predictions)))\n",
    "print('Mean Absolute Error:', metrics.mean_absolute_error(y_test, lin_model_predictions))"
   ]
  },
  {
   "cell_type": "markdown",
   "metadata": {
    "colab_type": "text",
    "id": "ldTb44LMRgpq"
   },
   "source": [
    "### Create a model with grid search"
   ]
  },
  {
   "cell_type": "code",
   "execution_count": 120,
   "metadata": {
    "colab": {
     "base_uri": "https://localhost:8080/",
     "height": 34
    },
    "colab_type": "code",
    "executionInfo": {
     "elapsed": 226469,
     "status": "ok",
     "timestamp": 1591475830815,
     "user": {
      "displayName": "Upal Roy",
      "photoUrl": "https://lh3.googleusercontent.com/a-/AOh14Gh3ZcxNJOImetV4fnumMA01jK279Xfnb3YIYO61fA=s64",
      "userId": "00708235415135331858"
     },
     "user_tz": -330
    },
    "id": "rSnsUmcRRgpr",
    "outputId": "81eb493c-2263-4b41-d2e5-d5c114c70bd8"
   },
   "outputs": [
    {
     "name": "stderr",
     "output_type": "stream",
     "text": [
      "C:\\Users\\HP003384\\anaconda3\\lib\\site-packages\\sklearn\\linear_model\\_stochastic_gradient.py:1188: ConvergenceWarning: Maximum number of iteration reached before convergence. Consider increasing max_iter to improve the fit.\n",
      "  ConvergenceWarning)\n",
      "C:\\Users\\HP003384\\anaconda3\\lib\\site-packages\\sklearn\\linear_model\\_stochastic_gradient.py:1188: ConvergenceWarning: Maximum number of iteration reached before convergence. Consider increasing max_iter to improve the fit.\n",
      "  ConvergenceWarning)\n"
     ]
    },
    {
     "name": "stdout",
     "output_type": "stream",
     "text": [
      "Best score: 0.28772510276621743\n"
     ]
    }
   ],
   "source": [
    "# ignore the deprecation warning\n",
    "import warnings\n",
    "warnings.filterwarnings(\"ignore\", category=DeprecationWarning)\n",
    "warnings.filterwarnings(\"ignore\", category=FutureWarning)\n",
    "\n",
    "from sklearn.model_selection import GridSearchCV\n",
    "\n",
    "# Grid search - this will take about 1 minute.\n",
    "param_grid = {\n",
    "    'alpha': 10.0 ** -np.arange(1, 7),\n",
    "    'loss': ['squared_loss', 'huber', 'epsilon_insensitive'],\n",
    "    'penalty': ['l2', 'l1', 'elasticnet'],\n",
    "    'learning_rate': ['constant', 'optimal', 'invscaling'],\n",
    "}\n",
    "clf = GridSearchCV(lin_model, param_grid)\n",
    "clf.fit(x_train, y_train)\n",
    "print(\"Best score: \" + str(clf.best_score_))"
   ]
  },
  {
   "cell_type": "code",
   "execution_count": 121,
   "metadata": {
    "colab": {},
    "colab_type": "code",
    "id": "eKzSbJ4QRgpt"
   },
   "outputs": [],
   "source": [
    "pred_test = clf.predict(x_test)"
   ]
  },
  {
   "cell_type": "markdown",
   "metadata": {
    "colab_type": "text",
    "id": "nyPviC1NRgpw"
   },
   "source": [
    "### Print best parameter values"
   ]
  },
  {
   "cell_type": "code",
   "execution_count": 122,
   "metadata": {
    "colab": {
     "base_uri": "https://localhost:8080/",
     "height": 119
    },
    "colab_type": "code",
    "executionInfo": {
     "elapsed": 226447,
     "status": "ok",
     "timestamp": 1591475830817,
     "user": {
      "displayName": "Upal Roy",
      "photoUrl": "https://lh3.googleusercontent.com/a-/AOh14Gh3ZcxNJOImetV4fnumMA01jK279Xfnb3YIYO61fA=s64",
      "userId": "00708235415135331858"
     },
     "user_tz": -330
    },
    "id": "MeoaJQpiRgpx",
    "outputId": "1a411eff-5dad-4779-dbec-7110e93ecf85"
   },
   "outputs": [
    {
     "name": "stdout",
     "output_type": "stream",
     "text": [
      "Best C: 1.0\n",
      "Best alpha: 0.01\n",
      "Best n_iter_no_change: 5\n",
      "Best tol: 0.001\n",
      "Best eta0: 0.01\n",
      "Best learning rate: invscaling\n"
     ]
    }
   ],
   "source": [
    "print('Best C:',clf.best_estimator_.C) \n",
    "print('Best alpha:',clf.best_estimator_.alpha) \n",
    "print('Best n_iter_no_change:',clf.best_estimator_.n_iter_no_change)\n",
    "print('Best tol:',clf.best_estimator_.tol) \n",
    "print('Best eta0:',clf.best_estimator_.eta0) \n",
    "print('Best learning rate:',clf.best_estimator_.learning_rate) "
   ]
  },
  {
   "cell_type": "markdown",
   "metadata": {
    "colab_type": "text",
    "id": "qwPXV4SlRgp0"
   },
   "source": [
    "### Build a model using best parameters"
   ]
  },
  {
   "cell_type": "code",
   "execution_count": 123,
   "metadata": {
    "colab": {},
    "colab_type": "code",
    "id": "ZRXNBE6aRgp0"
   },
   "outputs": [],
   "source": [
    "linreg_SGD = SGDRegressor(loss='squared_loss', alpha=0.01, penalty='l2',eta0=0.01,learning_rate='invscaling',max_iter=1000)"
   ]
  },
  {
   "cell_type": "markdown",
   "metadata": {
    "colab_type": "text",
    "id": "eQwFuZzqRgp3"
   },
   "source": [
    "### Training the model"
   ]
  },
  {
   "cell_type": "code",
   "execution_count": 124,
   "metadata": {
    "colab": {
     "base_uri": "https://localhost:8080/",
     "height": 119
    },
    "colab_type": "code",
    "executionInfo": {
     "elapsed": 226427,
     "status": "ok",
     "timestamp": 1591475830822,
     "user": {
      "displayName": "Upal Roy",
      "photoUrl": "https://lh3.googleusercontent.com/a-/AOh14Gh3ZcxNJOImetV4fnumMA01jK279Xfnb3YIYO61fA=s64",
      "userId": "00708235415135331858"
     },
     "user_tz": -330
    },
    "id": "xjzN7GSCRgp3",
    "outputId": "2bbfe87c-528d-4b81-922d-742f74465a6b"
   },
   "outputs": [
    {
     "data": {
      "text/plain": [
       "SGDRegressor(alpha=0.01, average=False, early_stopping=False, epsilon=0.1,\n",
       "             eta0=0.01, fit_intercept=True, l1_ratio=0.15,\n",
       "             learning_rate='invscaling', loss='squared_loss', max_iter=1000,\n",
       "             n_iter_no_change=5, penalty='l2', power_t=0.25, random_state=None,\n",
       "             shuffle=True, tol=0.001, validation_fraction=0.1, verbose=0,\n",
       "             warm_start=False)"
      ]
     },
     "execution_count": 124,
     "metadata": {},
     "output_type": "execute_result"
    }
   ],
   "source": [
    "linreg_SGD.fit(x_train,y_train)"
   ]
  },
  {
   "cell_type": "markdown",
   "metadata": {
    "colab_type": "text",
    "id": "KhbpCv3DRgp6"
   },
   "source": [
    "### Predictions on test data"
   ]
  },
  {
   "cell_type": "code",
   "execution_count": 128,
   "metadata": {
    "colab": {},
    "colab_type": "code",
    "id": "5bIIzqyHRgp6"
   },
   "outputs": [],
   "source": [
    "pred_test = linreg_SGD.predict(x_test)"
   ]
  },
  {
   "cell_type": "code",
   "execution_count": 160,
   "metadata": {},
   "outputs": [
    {
     "data": {
      "text/plain": [
       "-7.60722204369341e+22"
      ]
     },
     "execution_count": 160,
     "metadata": {},
     "output_type": "execute_result"
    }
   ],
   "source": [
    "linreg_SGD.score(x_train,y_train)"
   ]
  },
  {
   "cell_type": "code",
   "execution_count": 170,
   "metadata": {},
   "outputs": [
    {
     "data": {
      "text/plain": [
       "-7.834776769363344e+22"
      ]
     },
     "execution_count": 170,
     "metadata": {},
     "output_type": "execute_result"
    }
   ],
   "source": [
    "linreg_SGD.score(x_test,y_test)"
   ]
  },
  {
   "cell_type": "markdown",
   "metadata": {
    "colab_type": "text",
    "id": "hMi6m1A5RgqA"
   },
   "source": [
    "### Mean Square Error"
   ]
  },
  {
   "cell_type": "code",
   "execution_count": 171,
   "metadata": {},
   "outputs": [
    {
     "name": "stdout",
     "output_type": "stream",
     "text": [
      "Mean Squared Error: 2.6158474271738233e+32\n",
      "Root Mean Squared Error: 1.61735816292305e+16\n",
      "Mean Absolute Error: 1.2954854715419302e+16\n"
     ]
    }
   ],
   "source": [
    "print('Mean Squared Error:', metrics.mean_squared_error(y_test, pred_test))  \n",
    "print('Root Mean Squared Error:', np.sqrt(metrics.mean_squared_error(y_test, pred_test)))\n",
    "print('Mean Absolute Error:', metrics.mean_absolute_error(y_test, pred_test))"
   ]
  },
  {
   "cell_type": "code",
   "execution_count": 172,
   "metadata": {},
   "outputs": [
    {
     "data": {
      "text/html": [
       "<div>\n",
       "<style scoped>\n",
       "    .dataframe tbody tr th:only-of-type {\n",
       "        vertical-align: middle;\n",
       "    }\n",
       "\n",
       "    .dataframe tbody tr th {\n",
       "        vertical-align: top;\n",
       "    }\n",
       "\n",
       "    .dataframe thead th {\n",
       "        text-align: right;\n",
       "    }\n",
       "</style>\n",
       "<table border=\"1\" class=\"dataframe\">\n",
       "  <thead>\n",
       "    <tr style=\"text-align: right;\">\n",
       "      <th></th>\n",
       "      <th>Actual</th>\n",
       "      <th>Predicted</th>\n",
       "    </tr>\n",
       "  </thead>\n",
       "  <tbody>\n",
       "    <tr>\n",
       "      <th>620</th>\n",
       "      <td>67000.0</td>\n",
       "      <td>-1.766468e+16</td>\n",
       "    </tr>\n",
       "    <tr>\n",
       "      <th>874</th>\n",
       "      <td>66500.0</td>\n",
       "      <td>-1.667740e+16</td>\n",
       "    </tr>\n",
       "    <tr>\n",
       "      <th>1363</th>\n",
       "      <td>156932.0</td>\n",
       "      <td>-2.014094e+16</td>\n",
       "    </tr>\n",
       "    <tr>\n",
       "      <th>1289</th>\n",
       "      <td>281000.0</td>\n",
       "      <td>-2.847213e+16</td>\n",
       "    </tr>\n",
       "    <tr>\n",
       "      <th>90</th>\n",
       "      <td>109900.0</td>\n",
       "      <td>-6.467651e+15</td>\n",
       "    </tr>\n",
       "    <tr>\n",
       "      <th>...</th>\n",
       "      <td>...</td>\n",
       "      <td>...</td>\n",
       "    </tr>\n",
       "    <tr>\n",
       "      <th>936</th>\n",
       "      <td>184900.0</td>\n",
       "      <td>-1.320175e+16</td>\n",
       "    </tr>\n",
       "    <tr>\n",
       "      <th>679</th>\n",
       "      <td>128500.0</td>\n",
       "      <td>-1.305265e+16</td>\n",
       "    </tr>\n",
       "    <tr>\n",
       "      <th>1021</th>\n",
       "      <td>194000.0</td>\n",
       "      <td>-9.056368e+15</td>\n",
       "    </tr>\n",
       "    <tr>\n",
       "      <th>1813</th>\n",
       "      <td>163000.0</td>\n",
       "      <td>-1.491006e+16</td>\n",
       "    </tr>\n",
       "    <tr>\n",
       "      <th>385</th>\n",
       "      <td>192000.0</td>\n",
       "      <td>-8.792019e+15</td>\n",
       "    </tr>\n",
       "  </tbody>\n",
       "</table>\n",
       "<p>876 rows × 2 columns</p>\n",
       "</div>"
      ],
      "text/plain": [
       "        Actual     Predicted\n",
       "620    67000.0 -1.766468e+16\n",
       "874    66500.0 -1.667740e+16\n",
       "1363  156932.0 -2.014094e+16\n",
       "1289  281000.0 -2.847213e+16\n",
       "90    109900.0 -6.467651e+15\n",
       "...        ...           ...\n",
       "936   184900.0 -1.320175e+16\n",
       "679   128500.0 -1.305265e+16\n",
       "1021  194000.0 -9.056368e+15\n",
       "1813  163000.0 -1.491006e+16\n",
       "385   192000.0 -8.792019e+15\n",
       "\n",
       "[876 rows x 2 columns]"
      ]
     },
     "execution_count": 172,
     "metadata": {},
     "output_type": "execute_result"
    }
   ],
   "source": [
    "df_Predicted = pd.DataFrame({'Actual': y_test, 'Predicted': pred_test})\n",
    "df_Predicted"
   ]
  },
  {
   "cell_type": "code",
   "execution_count": 173,
   "metadata": {},
   "outputs": [],
   "source": [
    "import seaborn as sns"
   ]
  },
  {
   "cell_type": "code",
   "execution_count": 174,
   "metadata": {},
   "outputs": [
    {
     "data": {
      "text/plain": [
       "<matplotlib.axes._subplots.AxesSubplot at 0x1b03ecc0888>"
      ]
     },
     "execution_count": 174,
     "metadata": {},
     "output_type": "execute_result"
    },
    {
     "data": {
      "image/png": "[encoded data removed]",
      "text/plain": [
       "<Figure size 432x288 with 1 Axes>"
      ]
     },
     "metadata": {
      "needs_background": "light"
     },
     "output_type": "display_data"
    }
   ],
   "source": [
    "sns.regplot(y_test,pred_test)"
   ]
  },
  {
   "cell_type": "code",
   "execution_count": 175,
   "metadata": {},
   "outputs": [
    {
     "data": {
      "text/plain": [
       "<matplotlib.axes._subplots.AxesSubplot at 0x1b03ece49c8>"
      ]
     },
     "execution_count": 175,
     "metadata": {},
     "output_type": "execute_result"
    },
    {
     "data": {
      "image/png": "[encoded data removed]",
      "text/plain": [
       "<Figure size 432x288 with 1 Axes>"
      ]
     },
     "metadata": {
      "needs_background": "light"
     },
     "output_type": "display_data"
    }
   ],
   "source": [
    "sns.regplot(x='Actual',y='Predicted',data=df_Predicted)"
   ]
  },
  {
   "cell_type": "code",
   "execution_count": 176,
   "metadata": {},
   "outputs": [
    {
     "data": {
      "text/plain": [
       "<seaborn.axisgrid.FacetGrid at 0x1b03ed901c8>"
      ]
     },
     "execution_count": 176,
     "metadata": {},
     "output_type": "execute_result"
    },
    {
     "data": {
      "image/png": "[encoded data removed]",
      "text/plain": [
       "<Figure size 360x360 with 1 Axes>"
      ]
     },
     "metadata": {
      "needs_background": "light"
     },
     "output_type": "display_data"
    }
   ],
   "source": [
    "sns.lmplot(x='Actual',y='Predicted',data=df_Predicted)"
   ]
  }
 ],
 "metadata": {
  "colab": {
   "name": "Linear Regression with Stochastic Gradient Descent .ipynb",
   "provenance": [
    {
     "file_id": "1LOhqe7CoSlJ5JcEn-V6Nta-XgZLtKB7J",
     "timestamp": 1591424213640
    }
   ]
  },
  "kernelspec": {
   "display_name": "Python 3",
   "language": "python",
   "name": "python3"
  },
  "language_info": {
   "codemirror_mode": {
    "name": "ipython",
    "version": 3
   },
   "file_extension": ".py",
   "mimetype": "text/x-python",
   "name": "python",
   "nbconvert_exporter": "python",
   "pygments_lexer": "ipython3",
   "version": "3.8.5"
  }
 },
 "nbformat": 4,
 "nbformat_minor": 1
}
